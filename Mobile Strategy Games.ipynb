{
 "cells": [
  {
   "cell_type": "markdown",
   "metadata": {},
   "source": [
    "# Mobile Strategy Games"
   ]
  },
  {
   "cell_type": "markdown",
   "metadata": {},
   "source": [
    "## Introduction\n",
    "\n",
    "The mobile games industry is worth billion of dollars, with companies spending vast amounts of money on the development and marketing of these games to an equally large market.\n",
    "\n",
    "The dataset includes 17007 strategy games on the Apple App Store. It was collected on the 3rd of August 2019, using the iTunes API and the App Store sitemap. The data used in this project was downloaded from Kaggle.\n",
    "\n",
    "Using Python and its libraries, I will gather data, assess its quality and tidiness, then clean it. Then, I will use the number of ratings as a proxy indicator for the overall success of a game, and then work out what factors make a successful game by using univariate, bivariate and multivariate exploration."
   ]
  },
  {
   "cell_type": "markdown",
   "metadata": {},
   "source": [
    "# Gather"
   ]
  },
  {
   "cell_type": "code",
   "execution_count": 1,
   "metadata": {},
   "outputs": [],
   "source": [
    "# Import libraries\n",
    "import pandas as pd\n",
    "import matplotlib.pyplot as plt\n",
    "import seaborn as sb\n",
    "import numpy as np\n",
    "\n",
    "%matplotlib inline"
   ]
  },
  {
   "cell_type": "code",
   "execution_count": 2,
   "metadata": {},
   "outputs": [
    {
     "data": {
      "text/html": [
       "<div>\n",
       "<style scoped>\n",
       "    .dataframe tbody tr th:only-of-type {\n",
       "        vertical-align: middle;\n",
       "    }\n",
       "\n",
       "    .dataframe tbody tr th {\n",
       "        vertical-align: top;\n",
       "    }\n",
       "\n",
       "    .dataframe thead th {\n",
       "        text-align: right;\n",
       "    }\n",
       "</style>\n",
       "<table border=\"1\" class=\"dataframe\">\n",
       "  <thead>\n",
       "    <tr style=\"text-align: right;\">\n",
       "      <th></th>\n",
       "      <th>URL</th>\n",
       "      <th>ID</th>\n",
       "      <th>Name</th>\n",
       "      <th>Subtitle</th>\n",
       "      <th>Icon URL</th>\n",
       "      <th>Average User Rating</th>\n",
       "      <th>User Rating Count</th>\n",
       "      <th>Price</th>\n",
       "      <th>In-app Purchases</th>\n",
       "      <th>Description</th>\n",
       "      <th>Developer</th>\n",
       "      <th>Age Rating</th>\n",
       "      <th>Languages</th>\n",
       "      <th>Size</th>\n",
       "      <th>Primary Genre</th>\n",
       "      <th>Genres</th>\n",
       "      <th>Original Release Date</th>\n",
       "      <th>Current Version Release Date</th>\n",
       "    </tr>\n",
       "  </thead>\n",
       "  <tbody>\n",
       "    <tr>\n",
       "      <th>0</th>\n",
       "      <td>https://apps.apple.com/us/app/sudoku/id284921427</td>\n",
       "      <td>284921427</td>\n",
       "      <td>Sudoku</td>\n",
       "      <td>NaN</td>\n",
       "      <td>https://is2-ssl.mzstatic.com/image/thumb/Purpl...</td>\n",
       "      <td>4.0</td>\n",
       "      <td>3553.0</td>\n",
       "      <td>2.99</td>\n",
       "      <td>NaN</td>\n",
       "      <td>Join over 21,000,000 of our fans and download ...</td>\n",
       "      <td>Mighty Mighty Good Games</td>\n",
       "      <td>4+</td>\n",
       "      <td>DA, NL, EN, FI, FR, DE, IT, JA, KO, NB, PL, PT...</td>\n",
       "      <td>15853568.0</td>\n",
       "      <td>Games</td>\n",
       "      <td>Games, Strategy, Puzzle</td>\n",
       "      <td>11/07/2008</td>\n",
       "      <td>30/05/2017</td>\n",
       "    </tr>\n",
       "    <tr>\n",
       "      <th>1</th>\n",
       "      <td>https://apps.apple.com/us/app/reversi/id284926400</td>\n",
       "      <td>284926400</td>\n",
       "      <td>Reversi</td>\n",
       "      <td>NaN</td>\n",
       "      <td>https://is4-ssl.mzstatic.com/image/thumb/Purpl...</td>\n",
       "      <td>3.5</td>\n",
       "      <td>284.0</td>\n",
       "      <td>1.99</td>\n",
       "      <td>NaN</td>\n",
       "      <td>The classic game of Reversi, also known as Oth...</td>\n",
       "      <td>Kiss The Machine</td>\n",
       "      <td>4+</td>\n",
       "      <td>EN</td>\n",
       "      <td>12328960.0</td>\n",
       "      <td>Games</td>\n",
       "      <td>Games, Strategy, Board</td>\n",
       "      <td>11/07/2008</td>\n",
       "      <td>17/05/2018</td>\n",
       "    </tr>\n",
       "    <tr>\n",
       "      <th>2</th>\n",
       "      <td>https://apps.apple.com/us/app/morocco/id284946595</td>\n",
       "      <td>284946595</td>\n",
       "      <td>Morocco</td>\n",
       "      <td>NaN</td>\n",
       "      <td>https://is5-ssl.mzstatic.com/image/thumb/Purpl...</td>\n",
       "      <td>3.0</td>\n",
       "      <td>8376.0</td>\n",
       "      <td>0.00</td>\n",
       "      <td>NaN</td>\n",
       "      <td>Play the classic strategy game Othello (also k...</td>\n",
       "      <td>Bayou Games</td>\n",
       "      <td>4+</td>\n",
       "      <td>EN</td>\n",
       "      <td>674816.0</td>\n",
       "      <td>Games</td>\n",
       "      <td>Games, Board, Strategy</td>\n",
       "      <td>11/07/2008</td>\n",
       "      <td>5/09/2017</td>\n",
       "    </tr>\n",
       "    <tr>\n",
       "      <th>3</th>\n",
       "      <td>https://apps.apple.com/us/app/sudoku-free/id28...</td>\n",
       "      <td>285755462</td>\n",
       "      <td>Sudoku (Free)</td>\n",
       "      <td>NaN</td>\n",
       "      <td>https://is3-ssl.mzstatic.com/image/thumb/Purpl...</td>\n",
       "      <td>3.5</td>\n",
       "      <td>190394.0</td>\n",
       "      <td>0.00</td>\n",
       "      <td>NaN</td>\n",
       "      <td>Top 100 free app for over a year.\\nRated \"Best...</td>\n",
       "      <td>Mighty Mighty Good Games</td>\n",
       "      <td>4+</td>\n",
       "      <td>DA, NL, EN, FI, FR, DE, IT, JA, KO, NB, PL, PT...</td>\n",
       "      <td>21552128.0</td>\n",
       "      <td>Games</td>\n",
       "      <td>Games, Strategy, Puzzle</td>\n",
       "      <td>23/07/2008</td>\n",
       "      <td>30/05/2017</td>\n",
       "    </tr>\n",
       "    <tr>\n",
       "      <th>4</th>\n",
       "      <td>https://apps.apple.com/us/app/senet-deluxe/id2...</td>\n",
       "      <td>285831220</td>\n",
       "      <td>Senet Deluxe</td>\n",
       "      <td>NaN</td>\n",
       "      <td>https://is1-ssl.mzstatic.com/image/thumb/Purpl...</td>\n",
       "      <td>3.5</td>\n",
       "      <td>28.0</td>\n",
       "      <td>2.99</td>\n",
       "      <td>NaN</td>\n",
       "      <td>\"Senet Deluxe - The Ancient Game of Life and A...</td>\n",
       "      <td>RoGame Software</td>\n",
       "      <td>4+</td>\n",
       "      <td>DA, NL, EN, FR, DE, EL, IT, JA, KO, NO, PT, RU...</td>\n",
       "      <td>34689024.0</td>\n",
       "      <td>Games</td>\n",
       "      <td>Games, Strategy, Board, Education</td>\n",
       "      <td>18/07/2008</td>\n",
       "      <td>22/07/2018</td>\n",
       "    </tr>\n",
       "  </tbody>\n",
       "</table>\n",
       "</div>"
      ],
      "text/plain": [
       "                                                 URL         ID  \\\n",
       "0   https://apps.apple.com/us/app/sudoku/id284921427  284921427   \n",
       "1  https://apps.apple.com/us/app/reversi/id284926400  284926400   \n",
       "2  https://apps.apple.com/us/app/morocco/id284946595  284946595   \n",
       "3  https://apps.apple.com/us/app/sudoku-free/id28...  285755462   \n",
       "4  https://apps.apple.com/us/app/senet-deluxe/id2...  285831220   \n",
       "\n",
       "            Name Subtitle                                           Icon URL  \\\n",
       "0         Sudoku      NaN  https://is2-ssl.mzstatic.com/image/thumb/Purpl...   \n",
       "1        Reversi      NaN  https://is4-ssl.mzstatic.com/image/thumb/Purpl...   \n",
       "2        Morocco      NaN  https://is5-ssl.mzstatic.com/image/thumb/Purpl...   \n",
       "3  Sudoku (Free)      NaN  https://is3-ssl.mzstatic.com/image/thumb/Purpl...   \n",
       "4   Senet Deluxe      NaN  https://is1-ssl.mzstatic.com/image/thumb/Purpl...   \n",
       "\n",
       "   Average User Rating  User Rating Count  Price In-app Purchases  \\\n",
       "0                  4.0             3553.0   2.99              NaN   \n",
       "1                  3.5              284.0   1.99              NaN   \n",
       "2                  3.0             8376.0   0.00              NaN   \n",
       "3                  3.5           190394.0   0.00              NaN   \n",
       "4                  3.5               28.0   2.99              NaN   \n",
       "\n",
       "                                         Description  \\\n",
       "0  Join over 21,000,000 of our fans and download ...   \n",
       "1  The classic game of Reversi, also known as Oth...   \n",
       "2  Play the classic strategy game Othello (also k...   \n",
       "3  Top 100 free app for over a year.\\nRated \"Best...   \n",
       "4  \"Senet Deluxe - The Ancient Game of Life and A...   \n",
       "\n",
       "                  Developer Age Rating  \\\n",
       "0  Mighty Mighty Good Games         4+   \n",
       "1          Kiss The Machine         4+   \n",
       "2               Bayou Games         4+   \n",
       "3  Mighty Mighty Good Games         4+   \n",
       "4           RoGame Software         4+   \n",
       "\n",
       "                                           Languages        Size  \\\n",
       "0  DA, NL, EN, FI, FR, DE, IT, JA, KO, NB, PL, PT...  15853568.0   \n",
       "1                                                 EN  12328960.0   \n",
       "2                                                 EN    674816.0   \n",
       "3  DA, NL, EN, FI, FR, DE, IT, JA, KO, NB, PL, PT...  21552128.0   \n",
       "4  DA, NL, EN, FR, DE, EL, IT, JA, KO, NO, PT, RU...  34689024.0   \n",
       "\n",
       "  Primary Genre                             Genres Original Release Date  \\\n",
       "0         Games            Games, Strategy, Puzzle            11/07/2008   \n",
       "1         Games             Games, Strategy, Board            11/07/2008   \n",
       "2         Games             Games, Board, Strategy            11/07/2008   \n",
       "3         Games            Games, Strategy, Puzzle            23/07/2008   \n",
       "4         Games  Games, Strategy, Board, Education            18/07/2008   \n",
       "\n",
       "  Current Version Release Date  \n",
       "0                   30/05/2017  \n",
       "1                   17/05/2018  \n",
       "2                    5/09/2017  \n",
       "3                   30/05/2017  \n",
       "4                   22/07/2018  "
      ]
     },
     "execution_count": 2,
     "metadata": {},
     "output_type": "execute_result"
    }
   ],
   "source": [
    "# Import dataset and explore the first 5 rows\n",
    "df = pd.read_csv('appstore_games.csv')\n",
    "df.head()"
   ]
  },
  {
   "cell_type": "markdown",
   "metadata": {},
   "source": [
    "## Assess"
   ]
  },
  {
   "cell_type": "code",
   "execution_count": 3,
   "metadata": {},
   "outputs": [
    {
     "data": {
      "text/html": [
       "<div>\n",
       "<style scoped>\n",
       "    .dataframe tbody tr th:only-of-type {\n",
       "        vertical-align: middle;\n",
       "    }\n",
       "\n",
       "    .dataframe tbody tr th {\n",
       "        vertical-align: top;\n",
       "    }\n",
       "\n",
       "    .dataframe thead th {\n",
       "        text-align: right;\n",
       "    }\n",
       "</style>\n",
       "<table border=\"1\" class=\"dataframe\">\n",
       "  <thead>\n",
       "    <tr style=\"text-align: right;\">\n",
       "      <th></th>\n",
       "      <th>URL</th>\n",
       "      <th>ID</th>\n",
       "      <th>Name</th>\n",
       "      <th>Subtitle</th>\n",
       "      <th>Icon URL</th>\n",
       "      <th>Average User Rating</th>\n",
       "      <th>User Rating Count</th>\n",
       "      <th>Price</th>\n",
       "      <th>In-app Purchases</th>\n",
       "      <th>Description</th>\n",
       "      <th>Developer</th>\n",
       "      <th>Age Rating</th>\n",
       "      <th>Languages</th>\n",
       "      <th>Size</th>\n",
       "      <th>Primary Genre</th>\n",
       "      <th>Genres</th>\n",
       "      <th>Original Release Date</th>\n",
       "      <th>Current Version Release Date</th>\n",
       "    </tr>\n",
       "  </thead>\n",
       "  <tbody>\n",
       "    <tr>\n",
       "      <th>0</th>\n",
       "      <td>https://apps.apple.com/us/app/sudoku/id284921427</td>\n",
       "      <td>284921427</td>\n",
       "      <td>Sudoku</td>\n",
       "      <td>NaN</td>\n",
       "      <td>https://is2-ssl.mzstatic.com/image/thumb/Purpl...</td>\n",
       "      <td>4.0</td>\n",
       "      <td>3553.0</td>\n",
       "      <td>2.99</td>\n",
       "      <td>NaN</td>\n",
       "      <td>Join over 21,000,000 of our fans and download ...</td>\n",
       "      <td>Mighty Mighty Good Games</td>\n",
       "      <td>4+</td>\n",
       "      <td>DA, NL, EN, FI, FR, DE, IT, JA, KO, NB, PL, PT...</td>\n",
       "      <td>15853568.0</td>\n",
       "      <td>Games</td>\n",
       "      <td>Games, Strategy, Puzzle</td>\n",
       "      <td>11/07/2008</td>\n",
       "      <td>30/05/2017</td>\n",
       "    </tr>\n",
       "    <tr>\n",
       "      <th>1</th>\n",
       "      <td>https://apps.apple.com/us/app/reversi/id284926400</td>\n",
       "      <td>284926400</td>\n",
       "      <td>Reversi</td>\n",
       "      <td>NaN</td>\n",
       "      <td>https://is4-ssl.mzstatic.com/image/thumb/Purpl...</td>\n",
       "      <td>3.5</td>\n",
       "      <td>284.0</td>\n",
       "      <td>1.99</td>\n",
       "      <td>NaN</td>\n",
       "      <td>The classic game of Reversi, also known as Oth...</td>\n",
       "      <td>Kiss The Machine</td>\n",
       "      <td>4+</td>\n",
       "      <td>EN</td>\n",
       "      <td>12328960.0</td>\n",
       "      <td>Games</td>\n",
       "      <td>Games, Strategy, Board</td>\n",
       "      <td>11/07/2008</td>\n",
       "      <td>17/05/2018</td>\n",
       "    </tr>\n",
       "    <tr>\n",
       "      <th>2</th>\n",
       "      <td>https://apps.apple.com/us/app/morocco/id284946595</td>\n",
       "      <td>284946595</td>\n",
       "      <td>Morocco</td>\n",
       "      <td>NaN</td>\n",
       "      <td>https://is5-ssl.mzstatic.com/image/thumb/Purpl...</td>\n",
       "      <td>3.0</td>\n",
       "      <td>8376.0</td>\n",
       "      <td>0.00</td>\n",
       "      <td>NaN</td>\n",
       "      <td>Play the classic strategy game Othello (also k...</td>\n",
       "      <td>Bayou Games</td>\n",
       "      <td>4+</td>\n",
       "      <td>EN</td>\n",
       "      <td>674816.0</td>\n",
       "      <td>Games</td>\n",
       "      <td>Games, Board, Strategy</td>\n",
       "      <td>11/07/2008</td>\n",
       "      <td>5/09/2017</td>\n",
       "    </tr>\n",
       "    <tr>\n",
       "      <th>3</th>\n",
       "      <td>https://apps.apple.com/us/app/sudoku-free/id28...</td>\n",
       "      <td>285755462</td>\n",
       "      <td>Sudoku (Free)</td>\n",
       "      <td>NaN</td>\n",
       "      <td>https://is3-ssl.mzstatic.com/image/thumb/Purpl...</td>\n",
       "      <td>3.5</td>\n",
       "      <td>190394.0</td>\n",
       "      <td>0.00</td>\n",
       "      <td>NaN</td>\n",
       "      <td>Top 100 free app for over a year.\\nRated \"Best...</td>\n",
       "      <td>Mighty Mighty Good Games</td>\n",
       "      <td>4+</td>\n",
       "      <td>DA, NL, EN, FI, FR, DE, IT, JA, KO, NB, PL, PT...</td>\n",
       "      <td>21552128.0</td>\n",
       "      <td>Games</td>\n",
       "      <td>Games, Strategy, Puzzle</td>\n",
       "      <td>23/07/2008</td>\n",
       "      <td>30/05/2017</td>\n",
       "    </tr>\n",
       "    <tr>\n",
       "      <th>4</th>\n",
       "      <td>https://apps.apple.com/us/app/senet-deluxe/id2...</td>\n",
       "      <td>285831220</td>\n",
       "      <td>Senet Deluxe</td>\n",
       "      <td>NaN</td>\n",
       "      <td>https://is1-ssl.mzstatic.com/image/thumb/Purpl...</td>\n",
       "      <td>3.5</td>\n",
       "      <td>28.0</td>\n",
       "      <td>2.99</td>\n",
       "      <td>NaN</td>\n",
       "      <td>\"Senet Deluxe - The Ancient Game of Life and A...</td>\n",
       "      <td>RoGame Software</td>\n",
       "      <td>4+</td>\n",
       "      <td>DA, NL, EN, FR, DE, EL, IT, JA, KO, NO, PT, RU...</td>\n",
       "      <td>34689024.0</td>\n",
       "      <td>Games</td>\n",
       "      <td>Games, Strategy, Board, Education</td>\n",
       "      <td>18/07/2008</td>\n",
       "      <td>22/07/2018</td>\n",
       "    </tr>\n",
       "    <tr>\n",
       "      <th>...</th>\n",
       "      <td>...</td>\n",
       "      <td>...</td>\n",
       "      <td>...</td>\n",
       "      <td>...</td>\n",
       "      <td>...</td>\n",
       "      <td>...</td>\n",
       "      <td>...</td>\n",
       "      <td>...</td>\n",
       "      <td>...</td>\n",
       "      <td>...</td>\n",
       "      <td>...</td>\n",
       "      <td>...</td>\n",
       "      <td>...</td>\n",
       "      <td>...</td>\n",
       "      <td>...</td>\n",
       "      <td>...</td>\n",
       "      <td>...</td>\n",
       "      <td>...</td>\n",
       "    </tr>\n",
       "    <tr>\n",
       "      <th>17002</th>\n",
       "      <td>https://apps.apple.com/us/app/stack-puzzle-ris...</td>\n",
       "      <td>1474626442</td>\n",
       "      <td>Stack Puzzle : Rise Tower</td>\n",
       "      <td>Blast the cubes, solve puzzle!</td>\n",
       "      <td>https://is5-ssl.mzstatic.com/image/thumb/Purpl...</td>\n",
       "      <td>NaN</td>\n",
       "      <td>NaN</td>\n",
       "      <td>0.00</td>\n",
       "      <td>NaN</td>\n",
       "      <td>The goal is very simple, move the square horiz...</td>\n",
       "      <td>Zhigang Pei</td>\n",
       "      <td>4+</td>\n",
       "      <td>EN</td>\n",
       "      <td>64795648.0</td>\n",
       "      <td>Games</td>\n",
       "      <td>Games, Entertainment, Casual, Strategy</td>\n",
       "      <td>30/07/2019</td>\n",
       "      <td>30/07/2019</td>\n",
       "    </tr>\n",
       "    <tr>\n",
       "      <th>17003</th>\n",
       "      <td>https://apps.apple.com/us/app/eachother/id1474...</td>\n",
       "      <td>1474919257</td>\n",
       "      <td>EachOther</td>\n",
       "      <td>NaN</td>\n",
       "      <td>https://is2-ssl.mzstatic.com/image/thumb/Purpl...</td>\n",
       "      <td>NaN</td>\n",
       "      <td>NaN</td>\n",
       "      <td>0.00</td>\n",
       "      <td>NaN</td>\n",
       "      <td>Collect a score while you play!!\\n\\nBy linking...</td>\n",
       "      <td>Sultan Shindi</td>\n",
       "      <td>4+</td>\n",
       "      <td>EN</td>\n",
       "      <td>110341120.0</td>\n",
       "      <td>Games</td>\n",
       "      <td>Games, Family, Strategy</td>\n",
       "      <td>1/08/2019</td>\n",
       "      <td>1/08/2019</td>\n",
       "    </tr>\n",
       "    <tr>\n",
       "      <th>17004</th>\n",
       "      <td>https://apps.apple.com/us/app/rabbit-vs-tortoi...</td>\n",
       "      <td>1474962324</td>\n",
       "      <td>Rabbit Vs Tortoise</td>\n",
       "      <td>NaN</td>\n",
       "      <td>https://is2-ssl.mzstatic.com/image/thumb/Purpl...</td>\n",
       "      <td>NaN</td>\n",
       "      <td>NaN</td>\n",
       "      <td>0.00</td>\n",
       "      <td>NaN</td>\n",
       "      <td>\"Rabbit Vs Tortoise is chess type cool simple ...</td>\n",
       "      <td>Vishal Baldha</td>\n",
       "      <td>4+</td>\n",
       "      <td>EN</td>\n",
       "      <td>23207936.0</td>\n",
       "      <td>Games</td>\n",
       "      <td>Games, Strategy</td>\n",
       "      <td>3/08/2019</td>\n",
       "      <td>3/08/2019</td>\n",
       "    </tr>\n",
       "    <tr>\n",
       "      <th>17005</th>\n",
       "      <td>https://apps.apple.com/us/app/fatall/id1474963671</td>\n",
       "      <td>1474963671</td>\n",
       "      <td>FaTaLL</td>\n",
       "      <td>Most fun game!!!</td>\n",
       "      <td>https://is1-ssl.mzstatic.com/image/thumb/Purpl...</td>\n",
       "      <td>NaN</td>\n",
       "      <td>NaN</td>\n",
       "      <td>0.00</td>\n",
       "      <td>9.99, 49.99, 3.99</td>\n",
       "      <td>Upgrade your character and use your skills to ...</td>\n",
       "      <td>Tayrem Games</td>\n",
       "      <td>4+</td>\n",
       "      <td>EN</td>\n",
       "      <td>196750336.0</td>\n",
       "      <td>Games</td>\n",
       "      <td>Games, Strategy, Action</td>\n",
       "      <td>1/08/2019</td>\n",
       "      <td>1/08/2019</td>\n",
       "    </tr>\n",
       "    <tr>\n",
       "      <th>17006</th>\n",
       "      <td>https://apps.apple.com/us/app/the-three-kingdo...</td>\n",
       "      <td>1475076711</td>\n",
       "      <td>The Three Kingdoms :Bomb</td>\n",
       "      <td>NaN</td>\n",
       "      <td>https://is1-ssl.mzstatic.com/image/thumb/Purpl...</td>\n",
       "      <td>NaN</td>\n",
       "      <td>NaN</td>\n",
       "      <td>0.00</td>\n",
       "      <td>NaN</td>\n",
       "      <td>The protagonist uses the method of placing a b...</td>\n",
       "      <td>ming bo tang</td>\n",
       "      <td>4+</td>\n",
       "      <td>EN, ZH</td>\n",
       "      <td>22952960.0</td>\n",
       "      <td>Games</td>\n",
       "      <td>Games, Strategy, Puzzle</td>\n",
       "      <td>2/08/2019</td>\n",
       "      <td>2/08/2019</td>\n",
       "    </tr>\n",
       "  </tbody>\n",
       "</table>\n",
       "<p>17007 rows × 18 columns</p>\n",
       "</div>"
      ],
      "text/plain": [
       "                                                     URL          ID  \\\n",
       "0       https://apps.apple.com/us/app/sudoku/id284921427   284921427   \n",
       "1      https://apps.apple.com/us/app/reversi/id284926400   284926400   \n",
       "2      https://apps.apple.com/us/app/morocco/id284946595   284946595   \n",
       "3      https://apps.apple.com/us/app/sudoku-free/id28...   285755462   \n",
       "4      https://apps.apple.com/us/app/senet-deluxe/id2...   285831220   \n",
       "...                                                  ...         ...   \n",
       "17002  https://apps.apple.com/us/app/stack-puzzle-ris...  1474626442   \n",
       "17003  https://apps.apple.com/us/app/eachother/id1474...  1474919257   \n",
       "17004  https://apps.apple.com/us/app/rabbit-vs-tortoi...  1474962324   \n",
       "17005  https://apps.apple.com/us/app/fatall/id1474963671  1474963671   \n",
       "17006  https://apps.apple.com/us/app/the-three-kingdo...  1475076711   \n",
       "\n",
       "                            Name                        Subtitle  \\\n",
       "0                         Sudoku                             NaN   \n",
       "1                        Reversi                             NaN   \n",
       "2                        Morocco                             NaN   \n",
       "3                  Sudoku (Free)                             NaN   \n",
       "4                   Senet Deluxe                             NaN   \n",
       "...                          ...                             ...   \n",
       "17002  Stack Puzzle : Rise Tower  Blast the cubes, solve puzzle!   \n",
       "17003                  EachOther                             NaN   \n",
       "17004         Rabbit Vs Tortoise                             NaN   \n",
       "17005                     FaTaLL                Most fun game!!!   \n",
       "17006   The Three Kingdoms :Bomb                             NaN   \n",
       "\n",
       "                                                Icon URL  Average User Rating  \\\n",
       "0      https://is2-ssl.mzstatic.com/image/thumb/Purpl...                  4.0   \n",
       "1      https://is4-ssl.mzstatic.com/image/thumb/Purpl...                  3.5   \n",
       "2      https://is5-ssl.mzstatic.com/image/thumb/Purpl...                  3.0   \n",
       "3      https://is3-ssl.mzstatic.com/image/thumb/Purpl...                  3.5   \n",
       "4      https://is1-ssl.mzstatic.com/image/thumb/Purpl...                  3.5   \n",
       "...                                                  ...                  ...   \n",
       "17002  https://is5-ssl.mzstatic.com/image/thumb/Purpl...                  NaN   \n",
       "17003  https://is2-ssl.mzstatic.com/image/thumb/Purpl...                  NaN   \n",
       "17004  https://is2-ssl.mzstatic.com/image/thumb/Purpl...                  NaN   \n",
       "17005  https://is1-ssl.mzstatic.com/image/thumb/Purpl...                  NaN   \n",
       "17006  https://is1-ssl.mzstatic.com/image/thumb/Purpl...                  NaN   \n",
       "\n",
       "       User Rating Count  Price   In-app Purchases  \\\n",
       "0                 3553.0   2.99                NaN   \n",
       "1                  284.0   1.99                NaN   \n",
       "2                 8376.0   0.00                NaN   \n",
       "3               190394.0   0.00                NaN   \n",
       "4                   28.0   2.99                NaN   \n",
       "...                  ...    ...                ...   \n",
       "17002                NaN   0.00                NaN   \n",
       "17003                NaN   0.00                NaN   \n",
       "17004                NaN   0.00                NaN   \n",
       "17005                NaN   0.00  9.99, 49.99, 3.99   \n",
       "17006                NaN   0.00                NaN   \n",
       "\n",
       "                                             Description  \\\n",
       "0      Join over 21,000,000 of our fans and download ...   \n",
       "1      The classic game of Reversi, also known as Oth...   \n",
       "2      Play the classic strategy game Othello (also k...   \n",
       "3      Top 100 free app for over a year.\\nRated \"Best...   \n",
       "4      \"Senet Deluxe - The Ancient Game of Life and A...   \n",
       "...                                                  ...   \n",
       "17002  The goal is very simple, move the square horiz...   \n",
       "17003  Collect a score while you play!!\\n\\nBy linking...   \n",
       "17004  \"Rabbit Vs Tortoise is chess type cool simple ...   \n",
       "17005  Upgrade your character and use your skills to ...   \n",
       "17006  The protagonist uses the method of placing a b...   \n",
       "\n",
       "                      Developer Age Rating  \\\n",
       "0      Mighty Mighty Good Games         4+   \n",
       "1              Kiss The Machine         4+   \n",
       "2                   Bayou Games         4+   \n",
       "3      Mighty Mighty Good Games         4+   \n",
       "4               RoGame Software         4+   \n",
       "...                         ...        ...   \n",
       "17002               Zhigang Pei         4+   \n",
       "17003             Sultan Shindi         4+   \n",
       "17004             Vishal Baldha         4+   \n",
       "17005              Tayrem Games         4+   \n",
       "17006              ming bo tang         4+   \n",
       "\n",
       "                                               Languages         Size  \\\n",
       "0      DA, NL, EN, FI, FR, DE, IT, JA, KO, NB, PL, PT...   15853568.0   \n",
       "1                                                     EN   12328960.0   \n",
       "2                                                     EN     674816.0   \n",
       "3      DA, NL, EN, FI, FR, DE, IT, JA, KO, NB, PL, PT...   21552128.0   \n",
       "4      DA, NL, EN, FR, DE, EL, IT, JA, KO, NO, PT, RU...   34689024.0   \n",
       "...                                                  ...          ...   \n",
       "17002                                                 EN   64795648.0   \n",
       "17003                                                 EN  110341120.0   \n",
       "17004                                                 EN   23207936.0   \n",
       "17005                                                 EN  196750336.0   \n",
       "17006                                             EN, ZH   22952960.0   \n",
       "\n",
       "      Primary Genre                                  Genres  \\\n",
       "0             Games                 Games, Strategy, Puzzle   \n",
       "1             Games                  Games, Strategy, Board   \n",
       "2             Games                  Games, Board, Strategy   \n",
       "3             Games                 Games, Strategy, Puzzle   \n",
       "4             Games       Games, Strategy, Board, Education   \n",
       "...             ...                                     ...   \n",
       "17002         Games  Games, Entertainment, Casual, Strategy   \n",
       "17003         Games                 Games, Family, Strategy   \n",
       "17004         Games                         Games, Strategy   \n",
       "17005         Games                 Games, Strategy, Action   \n",
       "17006         Games                 Games, Strategy, Puzzle   \n",
       "\n",
       "      Original Release Date Current Version Release Date  \n",
       "0                11/07/2008                   30/05/2017  \n",
       "1                11/07/2008                   17/05/2018  \n",
       "2                11/07/2008                    5/09/2017  \n",
       "3                23/07/2008                   30/05/2017  \n",
       "4                18/07/2008                   22/07/2018  \n",
       "...                     ...                          ...  \n",
       "17002            30/07/2019                   30/07/2019  \n",
       "17003             1/08/2019                    1/08/2019  \n",
       "17004             3/08/2019                    3/08/2019  \n",
       "17005             1/08/2019                    1/08/2019  \n",
       "17006             2/08/2019                    2/08/2019  \n",
       "\n",
       "[17007 rows x 18 columns]"
      ]
     },
     "execution_count": 3,
     "metadata": {},
     "output_type": "execute_result"
    }
   ],
   "source": [
    "# Visual assessment\n",
    "df"
   ]
  },
  {
   "cell_type": "code",
   "execution_count": 4,
   "metadata": {
    "scrolled": true
   },
   "outputs": [
    {
     "name": "stdout",
     "output_type": "stream",
     "text": [
      "<class 'pandas.core.frame.DataFrame'>\n",
      "RangeIndex: 17007 entries, 0 to 17006\n",
      "Data columns (total 18 columns):\n",
      "URL                             17007 non-null object\n",
      "ID                              17007 non-null int64\n",
      "Name                            17007 non-null object\n",
      "Subtitle                        5261 non-null object\n",
      "Icon URL                        17007 non-null object\n",
      "Average User Rating             7561 non-null float64\n",
      "User Rating Count               7561 non-null float64\n",
      "Price                           16983 non-null float64\n",
      "In-app Purchases                7683 non-null object\n",
      "Description                     17007 non-null object\n",
      "Developer                       17007 non-null object\n",
      "Age Rating                      17007 non-null object\n",
      "Languages                       16947 non-null object\n",
      "Size                            17006 non-null float64\n",
      "Primary Genre                   17007 non-null object\n",
      "Genres                          17007 non-null object\n",
      "Original Release Date           17007 non-null object\n",
      "Current Version Release Date    17007 non-null object\n",
      "dtypes: float64(4), int64(1), object(13)\n",
      "memory usage: 2.3+ MB\n"
     ]
    }
   ],
   "source": [
    "# Print a concise summary of a DataFrame\n",
    "df.info()"
   ]
  },
  {
   "cell_type": "code",
   "execution_count": 5,
   "metadata": {},
   "outputs": [
    {
     "data": {
      "text/html": [
       "<div>\n",
       "<style scoped>\n",
       "    .dataframe tbody tr th:only-of-type {\n",
       "        vertical-align: middle;\n",
       "    }\n",
       "\n",
       "    .dataframe tbody tr th {\n",
       "        vertical-align: top;\n",
       "    }\n",
       "\n",
       "    .dataframe thead th {\n",
       "        text-align: right;\n",
       "    }\n",
       "</style>\n",
       "<table border=\"1\" class=\"dataframe\">\n",
       "  <thead>\n",
       "    <tr style=\"text-align: right;\">\n",
       "      <th></th>\n",
       "      <th>ID</th>\n",
       "      <th>Average User Rating</th>\n",
       "      <th>User Rating Count</th>\n",
       "      <th>Price</th>\n",
       "      <th>Size</th>\n",
       "    </tr>\n",
       "  </thead>\n",
       "  <tbody>\n",
       "    <tr>\n",
       "      <th>count</th>\n",
       "      <td>1.700700e+04</td>\n",
       "      <td>7561.000000</td>\n",
       "      <td>7.561000e+03</td>\n",
       "      <td>16983.000000</td>\n",
       "      <td>1.700600e+04</td>\n",
       "    </tr>\n",
       "    <tr>\n",
       "      <th>mean</th>\n",
       "      <td>1.059614e+09</td>\n",
       "      <td>4.060905</td>\n",
       "      <td>3.306531e+03</td>\n",
       "      <td>0.813419</td>\n",
       "      <td>1.157064e+08</td>\n",
       "    </tr>\n",
       "    <tr>\n",
       "      <th>std</th>\n",
       "      <td>2.999676e+08</td>\n",
       "      <td>0.751428</td>\n",
       "      <td>4.232256e+04</td>\n",
       "      <td>7.835732</td>\n",
       "      <td>2.036477e+08</td>\n",
       "    </tr>\n",
       "    <tr>\n",
       "      <th>min</th>\n",
       "      <td>2.849214e+08</td>\n",
       "      <td>1.000000</td>\n",
       "      <td>5.000000e+00</td>\n",
       "      <td>0.000000</td>\n",
       "      <td>5.132800e+04</td>\n",
       "    </tr>\n",
       "    <tr>\n",
       "      <th>25%</th>\n",
       "      <td>8.996543e+08</td>\n",
       "      <td>3.500000</td>\n",
       "      <td>1.200000e+01</td>\n",
       "      <td>0.000000</td>\n",
       "      <td>2.295014e+07</td>\n",
       "    </tr>\n",
       "    <tr>\n",
       "      <th>50%</th>\n",
       "      <td>1.112286e+09</td>\n",
       "      <td>4.500000</td>\n",
       "      <td>4.600000e+01</td>\n",
       "      <td>0.000000</td>\n",
       "      <td>5.676895e+07</td>\n",
       "    </tr>\n",
       "    <tr>\n",
       "      <th>75%</th>\n",
       "      <td>1.286983e+09</td>\n",
       "      <td>4.500000</td>\n",
       "      <td>3.090000e+02</td>\n",
       "      <td>0.000000</td>\n",
       "      <td>1.330271e+08</td>\n",
       "    </tr>\n",
       "    <tr>\n",
       "      <th>max</th>\n",
       "      <td>1.475077e+09</td>\n",
       "      <td>5.000000</td>\n",
       "      <td>3.032734e+06</td>\n",
       "      <td>179.990000</td>\n",
       "      <td>4.005591e+09</td>\n",
       "    </tr>\n",
       "  </tbody>\n",
       "</table>\n",
       "</div>"
      ],
      "text/plain": [
       "                 ID  Average User Rating  User Rating Count         Price  \\\n",
       "count  1.700700e+04          7561.000000       7.561000e+03  16983.000000   \n",
       "mean   1.059614e+09             4.060905       3.306531e+03      0.813419   \n",
       "std    2.999676e+08             0.751428       4.232256e+04      7.835732   \n",
       "min    2.849214e+08             1.000000       5.000000e+00      0.000000   \n",
       "25%    8.996543e+08             3.500000       1.200000e+01      0.000000   \n",
       "50%    1.112286e+09             4.500000       4.600000e+01      0.000000   \n",
       "75%    1.286983e+09             4.500000       3.090000e+02      0.000000   \n",
       "max    1.475077e+09             5.000000       3.032734e+06    179.990000   \n",
       "\n",
       "               Size  \n",
       "count  1.700600e+04  \n",
       "mean   1.157064e+08  \n",
       "std    2.036477e+08  \n",
       "min    5.132800e+04  \n",
       "25%    2.295014e+07  \n",
       "50%    5.676895e+07  \n",
       "75%    1.330271e+08  \n",
       "max    4.005591e+09  "
      ]
     },
     "execution_count": 5,
     "metadata": {},
     "output_type": "execute_result"
    }
   ],
   "source": [
    "# Generate useful descriptive statistics\n",
    "df.describe()"
   ]
  },
  {
   "cell_type": "code",
   "execution_count": 6,
   "metadata": {},
   "outputs": [
    {
     "data": {
      "text/plain": [
       "160"
      ]
     },
     "execution_count": 6,
     "metadata": {},
     "output_type": "execute_result"
    }
   ],
   "source": [
    "# Return the number of duplicated rows\n",
    "df.duplicated().sum()"
   ]
  },
  {
   "cell_type": "code",
   "execution_count": 7,
   "metadata": {},
   "outputs": [
    {
     "data": {
      "text/plain": [
       "URL                                 0\n",
       "ID                                  0\n",
       "Name                                0\n",
       "Subtitle                        11746\n",
       "Icon URL                            0\n",
       "Average User Rating              9446\n",
       "User Rating Count                9446\n",
       "Price                              24\n",
       "In-app Purchases                 9324\n",
       "Description                         0\n",
       "Developer                           0\n",
       "Age Rating                          0\n",
       "Languages                          60\n",
       "Size                                1\n",
       "Primary Genre                       0\n",
       "Genres                              0\n",
       "Original Release Date               0\n",
       "Current Version Release Date        0\n",
       "dtype: int64"
      ]
     },
     "execution_count": 7,
     "metadata": {},
     "output_type": "execute_result"
    }
   ],
   "source": [
    "# Return the number of missing values in each column\n",
    "df.isna().sum()"
   ]
  },
  {
   "cell_type": "markdown",
   "metadata": {},
   "source": [
    "### Quality\n",
    "1. Average User Rating: 9446 missing values\n",
    "\n",
    "2. User Rating Count: 9446 missing values\n",
    "\n",
    "3. Price: 24 missing values\n",
    "\n",
    "4. Original Release Date: wrong datatype (string instead of datetime)\n",
    "\n",
    "5. Current Version Release Date: wrong datatype (string instead of datetime)\n",
    "\n",
    "6. 160 duplicated records\n",
    "\n",
    "7. Size: 1 missing value\n",
    "\n",
    "### Tidiness\n",
    "\n",
    "1. URL, ID, Icon URL are unnecessary\n",
    "\n",
    "2. In-app Purchases: the values are strings of float values\n",
    "\n",
    "3. Languages: the values are strings of strings\n",
    "\n",
    "4. Genres: the values are strings of strings"
   ]
  },
  {
   "cell_type": "markdown",
   "metadata": {},
   "source": [
    "## Clean"
   ]
  },
  {
   "cell_type": "code",
   "execution_count": 8,
   "metadata": {},
   "outputs": [],
   "source": [
    "# Create a copy dataframe\n",
    "df_clean = df.copy()"
   ]
  },
  {
   "cell_type": "markdown",
   "metadata": {},
   "source": [
    "### Quality:\n",
    "\n",
    "### Issue 1:\n",
    "#### Define: 9446 missing values in average user rating\n",
    "#### Code: replace missing values with median value"
   ]
  },
  {
   "cell_type": "code",
   "execution_count": 9,
   "metadata": {},
   "outputs": [
    {
     "data": {
      "text/plain": [
       "4.5"
      ]
     },
     "execution_count": 9,
     "metadata": {},
     "output_type": "execute_result"
    }
   ],
   "source": [
    "# Find average user rating's mean\n",
    "user_rating_median = df_clean['Average User Rating'].median()\n",
    "user_rating_median"
   ]
  },
  {
   "cell_type": "code",
   "execution_count": 10,
   "metadata": {},
   "outputs": [],
   "source": [
    "# Replace missing values with mean value\n",
    "df_clean['Average User Rating'].fillna(user_rating_median, inplace=True)"
   ]
  },
  {
   "cell_type": "markdown",
   "metadata": {},
   "source": [
    "#### Test:"
   ]
  },
  {
   "cell_type": "code",
   "execution_count": 11,
   "metadata": {},
   "outputs": [
    {
     "name": "stdout",
     "output_type": "stream",
     "text": [
      "<class 'pandas.core.frame.DataFrame'>\n",
      "RangeIndex: 17007 entries, 0 to 17006\n",
      "Data columns (total 18 columns):\n",
      "URL                             17007 non-null object\n",
      "ID                              17007 non-null int64\n",
      "Name                            17007 non-null object\n",
      "Subtitle                        5261 non-null object\n",
      "Icon URL                        17007 non-null object\n",
      "Average User Rating             17007 non-null float64\n",
      "User Rating Count               7561 non-null float64\n",
      "Price                           16983 non-null float64\n",
      "In-app Purchases                7683 non-null object\n",
      "Description                     17007 non-null object\n",
      "Developer                       17007 non-null object\n",
      "Age Rating                      17007 non-null object\n",
      "Languages                       16947 non-null object\n",
      "Size                            17006 non-null float64\n",
      "Primary Genre                   17007 non-null object\n",
      "Genres                          17007 non-null object\n",
      "Original Release Date           17007 non-null object\n",
      "Current Version Release Date    17007 non-null object\n",
      "dtypes: float64(4), int64(1), object(13)\n",
      "memory usage: 2.3+ MB\n"
     ]
    }
   ],
   "source": [
    "df_clean.info()"
   ]
  },
  {
   "cell_type": "markdown",
   "metadata": {},
   "source": [
    "### Issue 2:\n",
    "#### Define: 9446 missing values in user rating count\n",
    "#### Code: replace missing values with median value"
   ]
  },
  {
   "cell_type": "code",
   "execution_count": 12,
   "metadata": {},
   "outputs": [
    {
     "data": {
      "text/plain": [
       "46.0"
      ]
     },
     "execution_count": 12,
     "metadata": {},
     "output_type": "execute_result"
    }
   ],
   "source": [
    "# Find user rating count's mean\n",
    "user_rating_count_median = df_clean['User Rating Count'].median()\n",
    "user_rating_count_median"
   ]
  },
  {
   "cell_type": "code",
   "execution_count": 13,
   "metadata": {},
   "outputs": [],
   "source": [
    "# Replace missing values with mean value\n",
    "df_clean['User Rating Count'].fillna(user_rating_count_median, inplace=True)"
   ]
  },
  {
   "cell_type": "markdown",
   "metadata": {},
   "source": [
    "#### Test:"
   ]
  },
  {
   "cell_type": "code",
   "execution_count": 14,
   "metadata": {},
   "outputs": [
    {
     "name": "stdout",
     "output_type": "stream",
     "text": [
      "<class 'pandas.core.frame.DataFrame'>\n",
      "RangeIndex: 17007 entries, 0 to 17006\n",
      "Data columns (total 18 columns):\n",
      "URL                             17007 non-null object\n",
      "ID                              17007 non-null int64\n",
      "Name                            17007 non-null object\n",
      "Subtitle                        5261 non-null object\n",
      "Icon URL                        17007 non-null object\n",
      "Average User Rating             17007 non-null float64\n",
      "User Rating Count               17007 non-null float64\n",
      "Price                           16983 non-null float64\n",
      "In-app Purchases                7683 non-null object\n",
      "Description                     17007 non-null object\n",
      "Developer                       17007 non-null object\n",
      "Age Rating                      17007 non-null object\n",
      "Languages                       16947 non-null object\n",
      "Size                            17006 non-null float64\n",
      "Primary Genre                   17007 non-null object\n",
      "Genres                          17007 non-null object\n",
      "Original Release Date           17007 non-null object\n",
      "Current Version Release Date    17007 non-null object\n",
      "dtypes: float64(4), int64(1), object(13)\n",
      "memory usage: 2.3+ MB\n"
     ]
    }
   ],
   "source": [
    "df_clean.info()"
   ]
  },
  {
   "cell_type": "markdown",
   "metadata": {},
   "source": [
    "### Issue 3: \n",
    "\n",
    "#### Define: 24 missing values in price\n",
    "\n",
    "#### Code: Replace missing values with mean value"
   ]
  },
  {
   "cell_type": "code",
   "execution_count": 15,
   "metadata": {},
   "outputs": [
    {
     "data": {
      "text/plain": [
       "0.8134187128304518"
      ]
     },
     "execution_count": 15,
     "metadata": {},
     "output_type": "execute_result"
    }
   ],
   "source": [
    "# Find price's mean\n",
    "price_mean = df_clean['Price'].mean()\n",
    "price_mean"
   ]
  },
  {
   "cell_type": "code",
   "execution_count": 16,
   "metadata": {},
   "outputs": [],
   "source": [
    "# Replace missing values with mean value\n",
    "df_clean['Price'].fillna(price_mean, inplace=True)"
   ]
  },
  {
   "cell_type": "markdown",
   "metadata": {},
   "source": [
    "#### Test:"
   ]
  },
  {
   "cell_type": "code",
   "execution_count": 17,
   "metadata": {},
   "outputs": [
    {
     "name": "stdout",
     "output_type": "stream",
     "text": [
      "<class 'pandas.core.frame.DataFrame'>\n",
      "RangeIndex: 17007 entries, 0 to 17006\n",
      "Data columns (total 18 columns):\n",
      "URL                             17007 non-null object\n",
      "ID                              17007 non-null int64\n",
      "Name                            17007 non-null object\n",
      "Subtitle                        5261 non-null object\n",
      "Icon URL                        17007 non-null object\n",
      "Average User Rating             17007 non-null float64\n",
      "User Rating Count               17007 non-null float64\n",
      "Price                           17007 non-null float64\n",
      "In-app Purchases                7683 non-null object\n",
      "Description                     17007 non-null object\n",
      "Developer                       17007 non-null object\n",
      "Age Rating                      17007 non-null object\n",
      "Languages                       16947 non-null object\n",
      "Size                            17006 non-null float64\n",
      "Primary Genre                   17007 non-null object\n",
      "Genres                          17007 non-null object\n",
      "Original Release Date           17007 non-null object\n",
      "Current Version Release Date    17007 non-null object\n",
      "dtypes: float64(4), int64(1), object(13)\n",
      "memory usage: 2.3+ MB\n"
     ]
    }
   ],
   "source": [
    "df_clean.info()"
   ]
  },
  {
   "cell_type": "markdown",
   "metadata": {},
   "source": [
    "### Issue 4: \n",
    "\n",
    "#### Define: original release date's datatype is string instead of datetime\n",
    "\n",
    "#### Code: convert datatype to datetime"
   ]
  },
  {
   "cell_type": "code",
   "execution_count": 18,
   "metadata": {},
   "outputs": [],
   "source": [
    "# Convert datatype to datetime\n",
    "df_clean['Original Release Date'] = pd.to_datetime(df_clean['Original Release Date'])"
   ]
  },
  {
   "cell_type": "markdown",
   "metadata": {},
   "source": [
    "#### Test:"
   ]
  },
  {
   "cell_type": "code",
   "execution_count": 19,
   "metadata": {},
   "outputs": [
    {
     "name": "stdout",
     "output_type": "stream",
     "text": [
      "<class 'pandas.core.frame.DataFrame'>\n",
      "RangeIndex: 17007 entries, 0 to 17006\n",
      "Data columns (total 18 columns):\n",
      "URL                             17007 non-null object\n",
      "ID                              17007 non-null int64\n",
      "Name                            17007 non-null object\n",
      "Subtitle                        5261 non-null object\n",
      "Icon URL                        17007 non-null object\n",
      "Average User Rating             17007 non-null float64\n",
      "User Rating Count               17007 non-null float64\n",
      "Price                           17007 non-null float64\n",
      "In-app Purchases                7683 non-null object\n",
      "Description                     17007 non-null object\n",
      "Developer                       17007 non-null object\n",
      "Age Rating                      17007 non-null object\n",
      "Languages                       16947 non-null object\n",
      "Size                            17006 non-null float64\n",
      "Primary Genre                   17007 non-null object\n",
      "Genres                          17007 non-null object\n",
      "Original Release Date           17007 non-null datetime64[ns]\n",
      "Current Version Release Date    17007 non-null object\n",
      "dtypes: datetime64[ns](1), float64(4), int64(1), object(12)\n",
      "memory usage: 2.3+ MB\n"
     ]
    }
   ],
   "source": [
    "df_clean.info()"
   ]
  },
  {
   "cell_type": "markdown",
   "metadata": {},
   "source": [
    "### Issue 5: \n",
    "\n",
    "#### Define: current version release date's datatype is string instead of datetime\n",
    "\n",
    "#### Code: convert datatype to datetime"
   ]
  },
  {
   "cell_type": "code",
   "execution_count": 20,
   "metadata": {},
   "outputs": [],
   "source": [
    "# Convert datatype to datetime\n",
    "df_clean['Current Version Release Date'] = pd.to_datetime(df_clean['Current Version Release Date'])"
   ]
  },
  {
   "cell_type": "markdown",
   "metadata": {},
   "source": [
    "#### Test:"
   ]
  },
  {
   "cell_type": "code",
   "execution_count": 21,
   "metadata": {},
   "outputs": [
    {
     "name": "stdout",
     "output_type": "stream",
     "text": [
      "<class 'pandas.core.frame.DataFrame'>\n",
      "RangeIndex: 17007 entries, 0 to 17006\n",
      "Data columns (total 18 columns):\n",
      "URL                             17007 non-null object\n",
      "ID                              17007 non-null int64\n",
      "Name                            17007 non-null object\n",
      "Subtitle                        5261 non-null object\n",
      "Icon URL                        17007 non-null object\n",
      "Average User Rating             17007 non-null float64\n",
      "User Rating Count               17007 non-null float64\n",
      "Price                           17007 non-null float64\n",
      "In-app Purchases                7683 non-null object\n",
      "Description                     17007 non-null object\n",
      "Developer                       17007 non-null object\n",
      "Age Rating                      17007 non-null object\n",
      "Languages                       16947 non-null object\n",
      "Size                            17006 non-null float64\n",
      "Primary Genre                   17007 non-null object\n",
      "Genres                          17007 non-null object\n",
      "Original Release Date           17007 non-null datetime64[ns]\n",
      "Current Version Release Date    17007 non-null datetime64[ns]\n",
      "dtypes: datetime64[ns](2), float64(4), int64(1), object(11)\n",
      "memory usage: 2.3+ MB\n"
     ]
    }
   ],
   "source": [
    "df_clean.info()"
   ]
  },
  {
   "cell_type": "markdown",
   "metadata": {},
   "source": [
    "### Issue 6:\n",
    "\n",
    "#### Define: 160 duplicated records\n",
    "\n",
    "#### Code: drop duplicated records"
   ]
  },
  {
   "cell_type": "code",
   "execution_count": 22,
   "metadata": {},
   "outputs": [
    {
     "data": {
      "text/html": [
       "<div>\n",
       "<style scoped>\n",
       "    .dataframe tbody tr th:only-of-type {\n",
       "        vertical-align: middle;\n",
       "    }\n",
       "\n",
       "    .dataframe tbody tr th {\n",
       "        vertical-align: top;\n",
       "    }\n",
       "\n",
       "    .dataframe thead th {\n",
       "        text-align: right;\n",
       "    }\n",
       "</style>\n",
       "<table border=\"1\" class=\"dataframe\">\n",
       "  <thead>\n",
       "    <tr style=\"text-align: right;\">\n",
       "      <th></th>\n",
       "      <th>URL</th>\n",
       "      <th>ID</th>\n",
       "      <th>Name</th>\n",
       "      <th>Subtitle</th>\n",
       "      <th>Icon URL</th>\n",
       "      <th>Average User Rating</th>\n",
       "      <th>User Rating Count</th>\n",
       "      <th>Price</th>\n",
       "      <th>In-app Purchases</th>\n",
       "      <th>Description</th>\n",
       "      <th>Developer</th>\n",
       "      <th>Age Rating</th>\n",
       "      <th>Languages</th>\n",
       "      <th>Size</th>\n",
       "      <th>Primary Genre</th>\n",
       "      <th>Genres</th>\n",
       "      <th>Original Release Date</th>\n",
       "      <th>Current Version Release Date</th>\n",
       "    </tr>\n",
       "  </thead>\n",
       "  <tbody>\n",
       "    <tr>\n",
       "      <th>0</th>\n",
       "      <td>https://apps.apple.com/us/app/sudoku/id284921427</td>\n",
       "      <td>284921427</td>\n",
       "      <td>Sudoku</td>\n",
       "      <td>NaN</td>\n",
       "      <td>https://is2-ssl.mzstatic.com/image/thumb/Purpl...</td>\n",
       "      <td>4.0</td>\n",
       "      <td>3553.0</td>\n",
       "      <td>2.99</td>\n",
       "      <td>NaN</td>\n",
       "      <td>Join over 21,000,000 of our fans and download ...</td>\n",
       "      <td>Mighty Mighty Good Games</td>\n",
       "      <td>4+</td>\n",
       "      <td>DA, NL, EN, FI, FR, DE, IT, JA, KO, NB, PL, PT...</td>\n",
       "      <td>15853568.0</td>\n",
       "      <td>Games</td>\n",
       "      <td>Games, Strategy, Puzzle</td>\n",
       "      <td>2008-11-07</td>\n",
       "      <td>2017-05-30</td>\n",
       "    </tr>\n",
       "    <tr>\n",
       "      <th>1</th>\n",
       "      <td>https://apps.apple.com/us/app/reversi/id284926400</td>\n",
       "      <td>284926400</td>\n",
       "      <td>Reversi</td>\n",
       "      <td>NaN</td>\n",
       "      <td>https://is4-ssl.mzstatic.com/image/thumb/Purpl...</td>\n",
       "      <td>3.5</td>\n",
       "      <td>284.0</td>\n",
       "      <td>1.99</td>\n",
       "      <td>NaN</td>\n",
       "      <td>The classic game of Reversi, also known as Oth...</td>\n",
       "      <td>Kiss The Machine</td>\n",
       "      <td>4+</td>\n",
       "      <td>EN</td>\n",
       "      <td>12328960.0</td>\n",
       "      <td>Games</td>\n",
       "      <td>Games, Strategy, Board</td>\n",
       "      <td>2008-11-07</td>\n",
       "      <td>2018-05-17</td>\n",
       "    </tr>\n",
       "    <tr>\n",
       "      <th>2</th>\n",
       "      <td>https://apps.apple.com/us/app/morocco/id284946595</td>\n",
       "      <td>284946595</td>\n",
       "      <td>Morocco</td>\n",
       "      <td>NaN</td>\n",
       "      <td>https://is5-ssl.mzstatic.com/image/thumb/Purpl...</td>\n",
       "      <td>3.0</td>\n",
       "      <td>8376.0</td>\n",
       "      <td>0.00</td>\n",
       "      <td>NaN</td>\n",
       "      <td>Play the classic strategy game Othello (also k...</td>\n",
       "      <td>Bayou Games</td>\n",
       "      <td>4+</td>\n",
       "      <td>EN</td>\n",
       "      <td>674816.0</td>\n",
       "      <td>Games</td>\n",
       "      <td>Games, Board, Strategy</td>\n",
       "      <td>2008-11-07</td>\n",
       "      <td>2017-05-09</td>\n",
       "    </tr>\n",
       "    <tr>\n",
       "      <th>3</th>\n",
       "      <td>https://apps.apple.com/us/app/sudoku-free/id28...</td>\n",
       "      <td>285755462</td>\n",
       "      <td>Sudoku (Free)</td>\n",
       "      <td>NaN</td>\n",
       "      <td>https://is3-ssl.mzstatic.com/image/thumb/Purpl...</td>\n",
       "      <td>3.5</td>\n",
       "      <td>190394.0</td>\n",
       "      <td>0.00</td>\n",
       "      <td>NaN</td>\n",
       "      <td>Top 100 free app for over a year.\\nRated \"Best...</td>\n",
       "      <td>Mighty Mighty Good Games</td>\n",
       "      <td>4+</td>\n",
       "      <td>DA, NL, EN, FI, FR, DE, IT, JA, KO, NB, PL, PT...</td>\n",
       "      <td>21552128.0</td>\n",
       "      <td>Games</td>\n",
       "      <td>Games, Strategy, Puzzle</td>\n",
       "      <td>2008-07-23</td>\n",
       "      <td>2017-05-30</td>\n",
       "    </tr>\n",
       "    <tr>\n",
       "      <th>4</th>\n",
       "      <td>https://apps.apple.com/us/app/senet-deluxe/id2...</td>\n",
       "      <td>285831220</td>\n",
       "      <td>Senet Deluxe</td>\n",
       "      <td>NaN</td>\n",
       "      <td>https://is1-ssl.mzstatic.com/image/thumb/Purpl...</td>\n",
       "      <td>3.5</td>\n",
       "      <td>28.0</td>\n",
       "      <td>2.99</td>\n",
       "      <td>NaN</td>\n",
       "      <td>\"Senet Deluxe - The Ancient Game of Life and A...</td>\n",
       "      <td>RoGame Software</td>\n",
       "      <td>4+</td>\n",
       "      <td>DA, NL, EN, FR, DE, EL, IT, JA, KO, NO, PT, RU...</td>\n",
       "      <td>34689024.0</td>\n",
       "      <td>Games</td>\n",
       "      <td>Games, Strategy, Board, Education</td>\n",
       "      <td>2008-07-18</td>\n",
       "      <td>2018-07-22</td>\n",
       "    </tr>\n",
       "    <tr>\n",
       "      <th>...</th>\n",
       "      <td>...</td>\n",
       "      <td>...</td>\n",
       "      <td>...</td>\n",
       "      <td>...</td>\n",
       "      <td>...</td>\n",
       "      <td>...</td>\n",
       "      <td>...</td>\n",
       "      <td>...</td>\n",
       "      <td>...</td>\n",
       "      <td>...</td>\n",
       "      <td>...</td>\n",
       "      <td>...</td>\n",
       "      <td>...</td>\n",
       "      <td>...</td>\n",
       "      <td>...</td>\n",
       "      <td>...</td>\n",
       "      <td>...</td>\n",
       "      <td>...</td>\n",
       "    </tr>\n",
       "    <tr>\n",
       "      <th>17002</th>\n",
       "      <td>https://apps.apple.com/us/app/stack-puzzle-ris...</td>\n",
       "      <td>1474626442</td>\n",
       "      <td>Stack Puzzle : Rise Tower</td>\n",
       "      <td>Blast the cubes, solve puzzle!</td>\n",
       "      <td>https://is5-ssl.mzstatic.com/image/thumb/Purpl...</td>\n",
       "      <td>4.5</td>\n",
       "      <td>46.0</td>\n",
       "      <td>0.00</td>\n",
       "      <td>NaN</td>\n",
       "      <td>The goal is very simple, move the square horiz...</td>\n",
       "      <td>Zhigang Pei</td>\n",
       "      <td>4+</td>\n",
       "      <td>EN</td>\n",
       "      <td>64795648.0</td>\n",
       "      <td>Games</td>\n",
       "      <td>Games, Entertainment, Casual, Strategy</td>\n",
       "      <td>2019-07-30</td>\n",
       "      <td>2019-07-30</td>\n",
       "    </tr>\n",
       "    <tr>\n",
       "      <th>17003</th>\n",
       "      <td>https://apps.apple.com/us/app/eachother/id1474...</td>\n",
       "      <td>1474919257</td>\n",
       "      <td>EachOther</td>\n",
       "      <td>NaN</td>\n",
       "      <td>https://is2-ssl.mzstatic.com/image/thumb/Purpl...</td>\n",
       "      <td>4.5</td>\n",
       "      <td>46.0</td>\n",
       "      <td>0.00</td>\n",
       "      <td>NaN</td>\n",
       "      <td>Collect a score while you play!!\\n\\nBy linking...</td>\n",
       "      <td>Sultan Shindi</td>\n",
       "      <td>4+</td>\n",
       "      <td>EN</td>\n",
       "      <td>110341120.0</td>\n",
       "      <td>Games</td>\n",
       "      <td>Games, Family, Strategy</td>\n",
       "      <td>2019-01-08</td>\n",
       "      <td>2019-01-08</td>\n",
       "    </tr>\n",
       "    <tr>\n",
       "      <th>17004</th>\n",
       "      <td>https://apps.apple.com/us/app/rabbit-vs-tortoi...</td>\n",
       "      <td>1474962324</td>\n",
       "      <td>Rabbit Vs Tortoise</td>\n",
       "      <td>NaN</td>\n",
       "      <td>https://is2-ssl.mzstatic.com/image/thumb/Purpl...</td>\n",
       "      <td>4.5</td>\n",
       "      <td>46.0</td>\n",
       "      <td>0.00</td>\n",
       "      <td>NaN</td>\n",
       "      <td>\"Rabbit Vs Tortoise is chess type cool simple ...</td>\n",
       "      <td>Vishal Baldha</td>\n",
       "      <td>4+</td>\n",
       "      <td>EN</td>\n",
       "      <td>23207936.0</td>\n",
       "      <td>Games</td>\n",
       "      <td>Games, Strategy</td>\n",
       "      <td>2019-03-08</td>\n",
       "      <td>2019-03-08</td>\n",
       "    </tr>\n",
       "    <tr>\n",
       "      <th>17005</th>\n",
       "      <td>https://apps.apple.com/us/app/fatall/id1474963671</td>\n",
       "      <td>1474963671</td>\n",
       "      <td>FaTaLL</td>\n",
       "      <td>Most fun game!!!</td>\n",
       "      <td>https://is1-ssl.mzstatic.com/image/thumb/Purpl...</td>\n",
       "      <td>4.5</td>\n",
       "      <td>46.0</td>\n",
       "      <td>0.00</td>\n",
       "      <td>9.99, 49.99, 3.99</td>\n",
       "      <td>Upgrade your character and use your skills to ...</td>\n",
       "      <td>Tayrem Games</td>\n",
       "      <td>4+</td>\n",
       "      <td>EN</td>\n",
       "      <td>196750336.0</td>\n",
       "      <td>Games</td>\n",
       "      <td>Games, Strategy, Action</td>\n",
       "      <td>2019-01-08</td>\n",
       "      <td>2019-01-08</td>\n",
       "    </tr>\n",
       "    <tr>\n",
       "      <th>17006</th>\n",
       "      <td>https://apps.apple.com/us/app/the-three-kingdo...</td>\n",
       "      <td>1475076711</td>\n",
       "      <td>The Three Kingdoms :Bomb</td>\n",
       "      <td>NaN</td>\n",
       "      <td>https://is1-ssl.mzstatic.com/image/thumb/Purpl...</td>\n",
       "      <td>4.5</td>\n",
       "      <td>46.0</td>\n",
       "      <td>0.00</td>\n",
       "      <td>NaN</td>\n",
       "      <td>The protagonist uses the method of placing a b...</td>\n",
       "      <td>ming bo tang</td>\n",
       "      <td>4+</td>\n",
       "      <td>EN, ZH</td>\n",
       "      <td>22952960.0</td>\n",
       "      <td>Games</td>\n",
       "      <td>Games, Strategy, Puzzle</td>\n",
       "      <td>2019-02-08</td>\n",
       "      <td>2019-02-08</td>\n",
       "    </tr>\n",
       "  </tbody>\n",
       "</table>\n",
       "<p>16847 rows × 18 columns</p>\n",
       "</div>"
      ],
      "text/plain": [
       "                                                     URL          ID  \\\n",
       "0       https://apps.apple.com/us/app/sudoku/id284921427   284921427   \n",
       "1      https://apps.apple.com/us/app/reversi/id284926400   284926400   \n",
       "2      https://apps.apple.com/us/app/morocco/id284946595   284946595   \n",
       "3      https://apps.apple.com/us/app/sudoku-free/id28...   285755462   \n",
       "4      https://apps.apple.com/us/app/senet-deluxe/id2...   285831220   \n",
       "...                                                  ...         ...   \n",
       "17002  https://apps.apple.com/us/app/stack-puzzle-ris...  1474626442   \n",
       "17003  https://apps.apple.com/us/app/eachother/id1474...  1474919257   \n",
       "17004  https://apps.apple.com/us/app/rabbit-vs-tortoi...  1474962324   \n",
       "17005  https://apps.apple.com/us/app/fatall/id1474963671  1474963671   \n",
       "17006  https://apps.apple.com/us/app/the-three-kingdo...  1475076711   \n",
       "\n",
       "                            Name                        Subtitle  \\\n",
       "0                         Sudoku                             NaN   \n",
       "1                        Reversi                             NaN   \n",
       "2                        Morocco                             NaN   \n",
       "3                  Sudoku (Free)                             NaN   \n",
       "4                   Senet Deluxe                             NaN   \n",
       "...                          ...                             ...   \n",
       "17002  Stack Puzzle : Rise Tower  Blast the cubes, solve puzzle!   \n",
       "17003                  EachOther                             NaN   \n",
       "17004         Rabbit Vs Tortoise                             NaN   \n",
       "17005                     FaTaLL                Most fun game!!!   \n",
       "17006   The Three Kingdoms :Bomb                             NaN   \n",
       "\n",
       "                                                Icon URL  Average User Rating  \\\n",
       "0      https://is2-ssl.mzstatic.com/image/thumb/Purpl...                  4.0   \n",
       "1      https://is4-ssl.mzstatic.com/image/thumb/Purpl...                  3.5   \n",
       "2      https://is5-ssl.mzstatic.com/image/thumb/Purpl...                  3.0   \n",
       "3      https://is3-ssl.mzstatic.com/image/thumb/Purpl...                  3.5   \n",
       "4      https://is1-ssl.mzstatic.com/image/thumb/Purpl...                  3.5   \n",
       "...                                                  ...                  ...   \n",
       "17002  https://is5-ssl.mzstatic.com/image/thumb/Purpl...                  4.5   \n",
       "17003  https://is2-ssl.mzstatic.com/image/thumb/Purpl...                  4.5   \n",
       "17004  https://is2-ssl.mzstatic.com/image/thumb/Purpl...                  4.5   \n",
       "17005  https://is1-ssl.mzstatic.com/image/thumb/Purpl...                  4.5   \n",
       "17006  https://is1-ssl.mzstatic.com/image/thumb/Purpl...                  4.5   \n",
       "\n",
       "       User Rating Count  Price   In-app Purchases  \\\n",
       "0                 3553.0   2.99                NaN   \n",
       "1                  284.0   1.99                NaN   \n",
       "2                 8376.0   0.00                NaN   \n",
       "3               190394.0   0.00                NaN   \n",
       "4                   28.0   2.99                NaN   \n",
       "...                  ...    ...                ...   \n",
       "17002               46.0   0.00                NaN   \n",
       "17003               46.0   0.00                NaN   \n",
       "17004               46.0   0.00                NaN   \n",
       "17005               46.0   0.00  9.99, 49.99, 3.99   \n",
       "17006               46.0   0.00                NaN   \n",
       "\n",
       "                                             Description  \\\n",
       "0      Join over 21,000,000 of our fans and download ...   \n",
       "1      The classic game of Reversi, also known as Oth...   \n",
       "2      Play the classic strategy game Othello (also k...   \n",
       "3      Top 100 free app for over a year.\\nRated \"Best...   \n",
       "4      \"Senet Deluxe - The Ancient Game of Life and A...   \n",
       "...                                                  ...   \n",
       "17002  The goal is very simple, move the square horiz...   \n",
       "17003  Collect a score while you play!!\\n\\nBy linking...   \n",
       "17004  \"Rabbit Vs Tortoise is chess type cool simple ...   \n",
       "17005  Upgrade your character and use your skills to ...   \n",
       "17006  The protagonist uses the method of placing a b...   \n",
       "\n",
       "                      Developer Age Rating  \\\n",
       "0      Mighty Mighty Good Games         4+   \n",
       "1              Kiss The Machine         4+   \n",
       "2                   Bayou Games         4+   \n",
       "3      Mighty Mighty Good Games         4+   \n",
       "4               RoGame Software         4+   \n",
       "...                         ...        ...   \n",
       "17002               Zhigang Pei         4+   \n",
       "17003             Sultan Shindi         4+   \n",
       "17004             Vishal Baldha         4+   \n",
       "17005              Tayrem Games         4+   \n",
       "17006              ming bo tang         4+   \n",
       "\n",
       "                                               Languages         Size  \\\n",
       "0      DA, NL, EN, FI, FR, DE, IT, JA, KO, NB, PL, PT...   15853568.0   \n",
       "1                                                     EN   12328960.0   \n",
       "2                                                     EN     674816.0   \n",
       "3      DA, NL, EN, FI, FR, DE, IT, JA, KO, NB, PL, PT...   21552128.0   \n",
       "4      DA, NL, EN, FR, DE, EL, IT, JA, KO, NO, PT, RU...   34689024.0   \n",
       "...                                                  ...          ...   \n",
       "17002                                                 EN   64795648.0   \n",
       "17003                                                 EN  110341120.0   \n",
       "17004                                                 EN   23207936.0   \n",
       "17005                                                 EN  196750336.0   \n",
       "17006                                             EN, ZH   22952960.0   \n",
       "\n",
       "      Primary Genre                                  Genres  \\\n",
       "0             Games                 Games, Strategy, Puzzle   \n",
       "1             Games                  Games, Strategy, Board   \n",
       "2             Games                  Games, Board, Strategy   \n",
       "3             Games                 Games, Strategy, Puzzle   \n",
       "4             Games       Games, Strategy, Board, Education   \n",
       "...             ...                                     ...   \n",
       "17002         Games  Games, Entertainment, Casual, Strategy   \n",
       "17003         Games                 Games, Family, Strategy   \n",
       "17004         Games                         Games, Strategy   \n",
       "17005         Games                 Games, Strategy, Action   \n",
       "17006         Games                 Games, Strategy, Puzzle   \n",
       "\n",
       "      Original Release Date Current Version Release Date  \n",
       "0                2008-11-07                   2017-05-30  \n",
       "1                2008-11-07                   2018-05-17  \n",
       "2                2008-11-07                   2017-05-09  \n",
       "3                2008-07-23                   2017-05-30  \n",
       "4                2008-07-18                   2018-07-22  \n",
       "...                     ...                          ...  \n",
       "17002            2019-07-30                   2019-07-30  \n",
       "17003            2019-01-08                   2019-01-08  \n",
       "17004            2019-03-08                   2019-03-08  \n",
       "17005            2019-01-08                   2019-01-08  \n",
       "17006            2019-02-08                   2019-02-08  \n",
       "\n",
       "[16847 rows x 18 columns]"
      ]
     },
     "execution_count": 22,
     "metadata": {},
     "output_type": "execute_result"
    }
   ],
   "source": [
    "# Drop duplicates\n",
    "df_clean.drop_duplicates()"
   ]
  },
  {
   "cell_type": "markdown",
   "metadata": {},
   "source": [
    "#### Test:"
   ]
  },
  {
   "cell_type": "code",
   "execution_count": 23,
   "metadata": {
    "scrolled": true
   },
   "outputs": [
    {
     "data": {
      "text/plain": [
       "160"
      ]
     },
     "execution_count": 23,
     "metadata": {},
     "output_type": "execute_result"
    }
   ],
   "source": [
    "sum(df_clean.duplicated())"
   ]
  },
  {
   "cell_type": "markdown",
   "metadata": {},
   "source": [
    "### Issue 7: \n",
    "\n",
    "#### Define: 1 missing value in Size\n",
    "\n",
    "#### Code: replace missing value with mean value"
   ]
  },
  {
   "cell_type": "code",
   "execution_count": 24,
   "metadata": {},
   "outputs": [],
   "source": [
    "# Find size's mean\n",
    "size_mean = df_clean['Size'].mean()"
   ]
  },
  {
   "cell_type": "code",
   "execution_count": 25,
   "metadata": {},
   "outputs": [],
   "source": [
    "# Replace missing value with mean value\n",
    "df_clean['Size'].fillna(size_mean, inplace=True)"
   ]
  },
  {
   "cell_type": "markdown",
   "metadata": {},
   "source": [
    "#### Test:"
   ]
  },
  {
   "cell_type": "code",
   "execution_count": 26,
   "metadata": {},
   "outputs": [
    {
     "name": "stdout",
     "output_type": "stream",
     "text": [
      "<class 'pandas.core.frame.DataFrame'>\n",
      "RangeIndex: 17007 entries, 0 to 17006\n",
      "Data columns (total 18 columns):\n",
      "URL                             17007 non-null object\n",
      "ID                              17007 non-null int64\n",
      "Name                            17007 non-null object\n",
      "Subtitle                        5261 non-null object\n",
      "Icon URL                        17007 non-null object\n",
      "Average User Rating             17007 non-null float64\n",
      "User Rating Count               17007 non-null float64\n",
      "Price                           17007 non-null float64\n",
      "In-app Purchases                7683 non-null object\n",
      "Description                     17007 non-null object\n",
      "Developer                       17007 non-null object\n",
      "Age Rating                      17007 non-null object\n",
      "Languages                       16947 non-null object\n",
      "Size                            17007 non-null float64\n",
      "Primary Genre                   17007 non-null object\n",
      "Genres                          17007 non-null object\n",
      "Original Release Date           17007 non-null datetime64[ns]\n",
      "Current Version Release Date    17007 non-null datetime64[ns]\n",
      "dtypes: datetime64[ns](2), float64(4), int64(1), object(11)\n",
      "memory usage: 2.3+ MB\n"
     ]
    }
   ],
   "source": [
    "df_clean.info()"
   ]
  },
  {
   "cell_type": "markdown",
   "metadata": {},
   "source": [
    "### Tidiness\n",
    "\n",
    "### Issue 1:\n",
    "#### Define: URL, ID, and Icon URL are unnecessary\n",
    "#### Code: drop unnecessary columns"
   ]
  },
  {
   "cell_type": "code",
   "execution_count": 27,
   "metadata": {},
   "outputs": [],
   "source": [
    "# Drop URL, ID, and Icon URL columns\n",
    "df_clean.drop(columns=['URL', 'ID', 'Icon URL'], inplace=True)"
   ]
  },
  {
   "cell_type": "markdown",
   "metadata": {},
   "source": [
    "#### Test:"
   ]
  },
  {
   "cell_type": "code",
   "execution_count": 28,
   "metadata": {},
   "outputs": [
    {
     "name": "stdout",
     "output_type": "stream",
     "text": [
      "<class 'pandas.core.frame.DataFrame'>\n",
      "RangeIndex: 17007 entries, 0 to 17006\n",
      "Data columns (total 15 columns):\n",
      "Name                            17007 non-null object\n",
      "Subtitle                        5261 non-null object\n",
      "Average User Rating             17007 non-null float64\n",
      "User Rating Count               17007 non-null float64\n",
      "Price                           17007 non-null float64\n",
      "In-app Purchases                7683 non-null object\n",
      "Description                     17007 non-null object\n",
      "Developer                       17007 non-null object\n",
      "Age Rating                      17007 non-null object\n",
      "Languages                       16947 non-null object\n",
      "Size                            17007 non-null float64\n",
      "Primary Genre                   17007 non-null object\n",
      "Genres                          17007 non-null object\n",
      "Original Release Date           17007 non-null datetime64[ns]\n",
      "Current Version Release Date    17007 non-null datetime64[ns]\n",
      "dtypes: datetime64[ns](2), float64(4), object(9)\n",
      "memory usage: 1.9+ MB\n"
     ]
    }
   ],
   "source": [
    "df_clean.info()"
   ]
  },
  {
   "cell_type": "markdown",
   "metadata": {},
   "source": [
    "### Issue 2:\n",
    "#### Define: In-app Purchases: the values are strings of float values\n",
    "#### Code: split the string of float values and store them as a list"
   ]
  },
  {
   "cell_type": "code",
   "execution_count": 29,
   "metadata": {},
   "outputs": [],
   "source": [
    "# Split the string of float values and store them as a list\n",
    "df_clean['In-app Purchases'] = df_clean['In-app Purchases'].dropna().map(lambda x: list(float(i) for i in x.split(', ')))"
   ]
  },
  {
   "cell_type": "markdown",
   "metadata": {},
   "source": [
    "#### Test:"
   ]
  },
  {
   "cell_type": "code",
   "execution_count": 30,
   "metadata": {},
   "outputs": [
    {
     "data": {
      "text/plain": [
       "5                                         [1.99]\n",
       "15                                        [0.99]\n",
       "16                                        [0.99]\n",
       "18    [1.99, 0.99, 1.99, 0.99, 4.99, 1.99, 1.99]\n",
       "19                            [0.99, 0.99, 0.99]\n",
       "Name: In-app Purchases, dtype: object"
      ]
     },
     "execution_count": 30,
     "metadata": {},
     "output_type": "execute_result"
    }
   ],
   "source": [
    "df_clean['In-app Purchases'].dropna().head()"
   ]
  },
  {
   "cell_type": "markdown",
   "metadata": {},
   "source": [
    "### Issue 3:\n",
    "#### Define: Languages: the values are strings of strings\n",
    "#### Code: split the string and store the values as a list"
   ]
  },
  {
   "cell_type": "code",
   "execution_count": 31,
   "metadata": {
    "scrolled": true
   },
   "outputs": [],
   "source": [
    "# Split the string and store the values as a list\n",
    "df_clean['Languages'] = df_clean['Languages'].dropna().map(lambda x: x.split(', '))"
   ]
  },
  {
   "cell_type": "markdown",
   "metadata": {},
   "source": [
    "#### Test:"
   ]
  },
  {
   "cell_type": "code",
   "execution_count": 32,
   "metadata": {
    "scrolled": true
   },
   "outputs": [
    {
     "data": {
      "text/plain": [
       "0    [DA, NL, EN, FI, FR, DE, IT, JA, KO, NB, PL, P...\n",
       "1                                                 [EN]\n",
       "2                                                 [EN]\n",
       "3    [DA, NL, EN, FI, FR, DE, IT, JA, KO, NB, PL, P...\n",
       "4    [DA, NL, EN, FR, DE, EL, IT, JA, KO, NO, PT, R...\n",
       "Name: Languages, dtype: object"
      ]
     },
     "execution_count": 32,
     "metadata": {},
     "output_type": "execute_result"
    }
   ],
   "source": [
    "df_clean['Languages'].dropna().head()"
   ]
  },
  {
   "cell_type": "markdown",
   "metadata": {},
   "source": [
    "### Issue 4:\n",
    "#### Define: Genres: the values are strings of strings\n",
    "#### Code: split the string and store the values as a list"
   ]
  },
  {
   "cell_type": "code",
   "execution_count": 33,
   "metadata": {},
   "outputs": [],
   "source": [
    "# Split the string and store the values as a list\n",
    "df_clean['Genres'] = df_clean['Genres'].dropna().map(lambda x: x.split(', '))"
   ]
  },
  {
   "cell_type": "markdown",
   "metadata": {},
   "source": [
    "#### Test:"
   ]
  },
  {
   "cell_type": "code",
   "execution_count": 34,
   "metadata": {
    "scrolled": true
   },
   "outputs": [
    {
     "data": {
      "text/plain": [
       "0              [Games, Strategy, Puzzle]\n",
       "1               [Games, Strategy, Board]\n",
       "2               [Games, Board, Strategy]\n",
       "3              [Games, Strategy, Puzzle]\n",
       "4    [Games, Strategy, Board, Education]\n",
       "Name: Genres, dtype: object"
      ]
     },
     "execution_count": 34,
     "metadata": {},
     "output_type": "execute_result"
    }
   ],
   "source": [
    "df_clean['Genres'].dropna().head()"
   ]
  },
  {
   "cell_type": "markdown",
   "metadata": {},
   "source": [
    "### Issue 5:\n",
    "\n",
    "#### Define:\n",
    "#### Code:"
   ]
  },
  {
   "cell_type": "code",
   "execution_count": 35,
   "metadata": {},
   "outputs": [],
   "source": [
    "# Extract rows that have primary genres as Games\n",
    "games = df_clean[df_clean['Primary Genre'] == 'Games']"
   ]
  },
  {
   "cell_type": "code",
   "execution_count": 36,
   "metadata": {},
   "outputs": [],
   "source": [
    "# Create the Game Genre column\n",
    "df_clean['Game Genre'] = games['Genres'].map(lambda x: x[1])"
   ]
  },
  {
   "cell_type": "markdown",
   "metadata": {},
   "source": [
    "#### Test:"
   ]
  },
  {
   "cell_type": "code",
   "execution_count": 37,
   "metadata": {},
   "outputs": [
    {
     "data": {
      "text/plain": [
       "0    Strategy\n",
       "1    Strategy\n",
       "2       Board\n",
       "3    Strategy\n",
       "4    Strategy\n",
       "Name: Game Genre, dtype: object"
      ]
     },
     "execution_count": 37,
     "metadata": {},
     "output_type": "execute_result"
    }
   ],
   "source": [
    "df_clean['Game Genre'].head()"
   ]
  },
  {
   "cell_type": "markdown",
   "metadata": {},
   "source": [
    "## Store"
   ]
  },
  {
   "cell_type": "code",
   "execution_count": 38,
   "metadata": {},
   "outputs": [],
   "source": [
    "df_clean.to_csv('appstore_games_new.csv', encoding='utf-8', index=False)"
   ]
  },
  {
   "cell_type": "markdown",
   "metadata": {},
   "source": [
    "## Analyze"
   ]
  },
  {
   "cell_type": "code",
   "execution_count": 39,
   "metadata": {
    "scrolled": true
   },
   "outputs": [
    {
     "data": {
      "text/html": [
       "<div>\n",
       "<style scoped>\n",
       "    .dataframe tbody tr th:only-of-type {\n",
       "        vertical-align: middle;\n",
       "    }\n",
       "\n",
       "    .dataframe tbody tr th {\n",
       "        vertical-align: top;\n",
       "    }\n",
       "\n",
       "    .dataframe thead th {\n",
       "        text-align: right;\n",
       "    }\n",
       "</style>\n",
       "<table border=\"1\" class=\"dataframe\">\n",
       "  <thead>\n",
       "    <tr style=\"text-align: right;\">\n",
       "      <th></th>\n",
       "      <th>Name</th>\n",
       "      <th>Subtitle</th>\n",
       "      <th>Average User Rating</th>\n",
       "      <th>User Rating Count</th>\n",
       "      <th>Price</th>\n",
       "      <th>In-app Purchases</th>\n",
       "      <th>Description</th>\n",
       "      <th>Developer</th>\n",
       "      <th>Age Rating</th>\n",
       "      <th>Languages</th>\n",
       "      <th>Size</th>\n",
       "      <th>Primary Genre</th>\n",
       "      <th>Genres</th>\n",
       "      <th>Original Release Date</th>\n",
       "      <th>Current Version Release Date</th>\n",
       "      <th>Game Genre</th>\n",
       "    </tr>\n",
       "  </thead>\n",
       "  <tbody>\n",
       "    <tr>\n",
       "      <th>0</th>\n",
       "      <td>Sudoku</td>\n",
       "      <td>NaN</td>\n",
       "      <td>4.0</td>\n",
       "      <td>3553.0</td>\n",
       "      <td>2.99</td>\n",
       "      <td>NaN</td>\n",
       "      <td>Join over 21,000,000 of our fans and download ...</td>\n",
       "      <td>Mighty Mighty Good Games</td>\n",
       "      <td>4+</td>\n",
       "      <td>[DA, NL, EN, FI, FR, DE, IT, JA, KO, NB, PL, P...</td>\n",
       "      <td>15853568.0</td>\n",
       "      <td>Games</td>\n",
       "      <td>[Games, Strategy, Puzzle]</td>\n",
       "      <td>2008-11-07</td>\n",
       "      <td>2017-05-30</td>\n",
       "      <td>Strategy</td>\n",
       "    </tr>\n",
       "    <tr>\n",
       "      <th>1</th>\n",
       "      <td>Reversi</td>\n",
       "      <td>NaN</td>\n",
       "      <td>3.5</td>\n",
       "      <td>284.0</td>\n",
       "      <td>1.99</td>\n",
       "      <td>NaN</td>\n",
       "      <td>The classic game of Reversi, also known as Oth...</td>\n",
       "      <td>Kiss The Machine</td>\n",
       "      <td>4+</td>\n",
       "      <td>[EN]</td>\n",
       "      <td>12328960.0</td>\n",
       "      <td>Games</td>\n",
       "      <td>[Games, Strategy, Board]</td>\n",
       "      <td>2008-11-07</td>\n",
       "      <td>2018-05-17</td>\n",
       "      <td>Strategy</td>\n",
       "    </tr>\n",
       "    <tr>\n",
       "      <th>2</th>\n",
       "      <td>Morocco</td>\n",
       "      <td>NaN</td>\n",
       "      <td>3.0</td>\n",
       "      <td>8376.0</td>\n",
       "      <td>0.00</td>\n",
       "      <td>NaN</td>\n",
       "      <td>Play the classic strategy game Othello (also k...</td>\n",
       "      <td>Bayou Games</td>\n",
       "      <td>4+</td>\n",
       "      <td>[EN]</td>\n",
       "      <td>674816.0</td>\n",
       "      <td>Games</td>\n",
       "      <td>[Games, Board, Strategy]</td>\n",
       "      <td>2008-11-07</td>\n",
       "      <td>2017-05-09</td>\n",
       "      <td>Board</td>\n",
       "    </tr>\n",
       "    <tr>\n",
       "      <th>3</th>\n",
       "      <td>Sudoku (Free)</td>\n",
       "      <td>NaN</td>\n",
       "      <td>3.5</td>\n",
       "      <td>190394.0</td>\n",
       "      <td>0.00</td>\n",
       "      <td>NaN</td>\n",
       "      <td>Top 100 free app for over a year.\\nRated \"Best...</td>\n",
       "      <td>Mighty Mighty Good Games</td>\n",
       "      <td>4+</td>\n",
       "      <td>[DA, NL, EN, FI, FR, DE, IT, JA, KO, NB, PL, P...</td>\n",
       "      <td>21552128.0</td>\n",
       "      <td>Games</td>\n",
       "      <td>[Games, Strategy, Puzzle]</td>\n",
       "      <td>2008-07-23</td>\n",
       "      <td>2017-05-30</td>\n",
       "      <td>Strategy</td>\n",
       "    </tr>\n",
       "    <tr>\n",
       "      <th>4</th>\n",
       "      <td>Senet Deluxe</td>\n",
       "      <td>NaN</td>\n",
       "      <td>3.5</td>\n",
       "      <td>28.0</td>\n",
       "      <td>2.99</td>\n",
       "      <td>NaN</td>\n",
       "      <td>\"Senet Deluxe - The Ancient Game of Life and A...</td>\n",
       "      <td>RoGame Software</td>\n",
       "      <td>4+</td>\n",
       "      <td>[DA, NL, EN, FR, DE, EL, IT, JA, KO, NO, PT, R...</td>\n",
       "      <td>34689024.0</td>\n",
       "      <td>Games</td>\n",
       "      <td>[Games, Strategy, Board, Education]</td>\n",
       "      <td>2008-07-18</td>\n",
       "      <td>2018-07-22</td>\n",
       "      <td>Strategy</td>\n",
       "    </tr>\n",
       "  </tbody>\n",
       "</table>\n",
       "</div>"
      ],
      "text/plain": [
       "            Name Subtitle  Average User Rating  User Rating Count  Price  \\\n",
       "0         Sudoku      NaN                  4.0             3553.0   2.99   \n",
       "1        Reversi      NaN                  3.5              284.0   1.99   \n",
       "2        Morocco      NaN                  3.0             8376.0   0.00   \n",
       "3  Sudoku (Free)      NaN                  3.5           190394.0   0.00   \n",
       "4   Senet Deluxe      NaN                  3.5               28.0   2.99   \n",
       "\n",
       "  In-app Purchases                                        Description  \\\n",
       "0              NaN  Join over 21,000,000 of our fans and download ...   \n",
       "1              NaN  The classic game of Reversi, also known as Oth...   \n",
       "2              NaN  Play the classic strategy game Othello (also k...   \n",
       "3              NaN  Top 100 free app for over a year.\\nRated \"Best...   \n",
       "4              NaN  \"Senet Deluxe - The Ancient Game of Life and A...   \n",
       "\n",
       "                  Developer Age Rating  \\\n",
       "0  Mighty Mighty Good Games         4+   \n",
       "1          Kiss The Machine         4+   \n",
       "2               Bayou Games         4+   \n",
       "3  Mighty Mighty Good Games         4+   \n",
       "4           RoGame Software         4+   \n",
       "\n",
       "                                           Languages        Size  \\\n",
       "0  [DA, NL, EN, FI, FR, DE, IT, JA, KO, NB, PL, P...  15853568.0   \n",
       "1                                               [EN]  12328960.0   \n",
       "2                                               [EN]    674816.0   \n",
       "3  [DA, NL, EN, FI, FR, DE, IT, JA, KO, NB, PL, P...  21552128.0   \n",
       "4  [DA, NL, EN, FR, DE, EL, IT, JA, KO, NO, PT, R...  34689024.0   \n",
       "\n",
       "  Primary Genre                               Genres Original Release Date  \\\n",
       "0         Games            [Games, Strategy, Puzzle]            2008-11-07   \n",
       "1         Games             [Games, Strategy, Board]            2008-11-07   \n",
       "2         Games             [Games, Board, Strategy]            2008-11-07   \n",
       "3         Games            [Games, Strategy, Puzzle]            2008-07-23   \n",
       "4         Games  [Games, Strategy, Board, Education]            2008-07-18   \n",
       "\n",
       "  Current Version Release Date Game Genre  \n",
       "0                   2017-05-30   Strategy  \n",
       "1                   2018-05-17   Strategy  \n",
       "2                   2017-05-09      Board  \n",
       "3                   2017-05-30   Strategy  \n",
       "4                   2018-07-22   Strategy  "
      ]
     },
     "execution_count": 39,
     "metadata": {},
     "output_type": "execute_result"
    }
   ],
   "source": [
    "df_clean.head()"
   ]
  },
  {
   "cell_type": "markdown",
   "metadata": {},
   "source": [
    "### Univariate Exploration"
   ]
  },
  {
   "cell_type": "markdown",
   "metadata": {},
   "source": [
    "#### Primary Genre"
   ]
  },
  {
   "cell_type": "code",
   "execution_count": 40,
   "metadata": {},
   "outputs": [
    {
     "data": {
      "text/plain": [
       "Games                16286\n",
       "Education              222\n",
       "Entertainment          198\n",
       "Utilities               77\n",
       "Sports                  60\n",
       "Reference               32\n",
       "Stickers                29\n",
       "Finance                 18\n",
       "Business                16\n",
       "Productivity            15\n",
       "Lifestyle               10\n",
       "Book                     9\n",
       "Social Networking        9\n",
       "News                     7\n",
       "Health & Fitness         5\n",
       "Food & Drink             4\n",
       "Navigation               3\n",
       "Music                    3\n",
       "Medical                  2\n",
       "Shopping                 1\n",
       "Travel                   1\n",
       "Name: Primary Genre, dtype: int64"
      ]
     },
     "execution_count": 40,
     "metadata": {},
     "output_type": "execute_result"
    }
   ],
   "source": [
    "df_clean['Primary Genre'].value_counts()"
   ]
  },
  {
   "cell_type": "code",
   "execution_count": 41,
   "metadata": {
    "scrolled": true
   },
   "outputs": [
    {
     "data": {
      "image/png": "[encoded data removed]",
      "text/plain": [
       "<Figure size 1058.4x595.44 with 1 Axes>"
      ]
     },
     "metadata": {
      "needs_background": "light"
     },
     "output_type": "display_data"
    }
   ],
   "source": [
    "# Set plot dimensions\n",
    "plt.figure(figsize=[14.70, 8.27])\n",
    "\n",
    "# Create a count plot with proper labels\n",
    "base_color = sb.color_palette()[0]\n",
    "genre_order = df_clean['Primary Genre'].value_counts().index\n",
    "sb.countplot(data=df_clean, y='Primary Genre', color=base_color, order=genre_order)\n",
    "plt.xlabel('Number of Apps')\n",
    "plt.title('Distribution of Primary Genre');"
   ]
  },
  {
   "cell_type": "markdown",
   "metadata": {},
   "source": [
    "There are 21 primary genres. The most popular genres are Games (95.76%), Education (1.31%), and Entertainment (1.16%). The least popular genres are Shopping (0.006%), Travel (0.006%), and Medical(0.012%)."
   ]
  },
  {
   "cell_type": "markdown",
   "metadata": {},
   "source": [
    "#### Average User Rating"
   ]
  },
  {
   "cell_type": "code",
   "execution_count": 42,
   "metadata": {
    "scrolled": true
   },
   "outputs": [
    {
     "data": {
      "text/plain": [
       "4.5    12307\n",
       "4.0     1722\n",
       "5.0      990\n",
       "3.5      925\n",
       "3.0      514\n",
       "2.5      317\n",
       "2.0      158\n",
       "1.5       60\n",
       "1.0       14\n",
       "Name: Average User Rating, dtype: int64"
      ]
     },
     "execution_count": 42,
     "metadata": {},
     "output_type": "execute_result"
    }
   ],
   "source": [
    "# Number of rows for each rating value\n",
    "df_clean['Average User Rating'].value_counts()"
   ]
  },
  {
   "cell_type": "code",
   "execution_count": 43,
   "metadata": {
    "scrolled": true
   },
   "outputs": [
    {
     "data": {
      "image/png": "[encoded data removed]",
      "text/plain": [
       "<Figure size 1058.4x595.44 with 1 Axes>"
      ]
     },
     "metadata": {
      "needs_background": "light"
     },
     "output_type": "display_data"
    }
   ],
   "source": [
    "# Set plot dimensions\n",
    "plt.figure(figsize=[14.70, 8.27])\n",
    "\n",
    "# Create a count plot with proper labels\n",
    "base_color = sb.color_palette()[0]\n",
    "sb.countplot(data=df_clean, x='Average User Rating', color=base_color)\n",
    "plt.ylabel('Number of Apps')\n",
    "plt.title('Distribution of Average User Rating');"
   ]
  },
  {
   "cell_type": "markdown",
   "metadata": {},
   "source": [
    "The average user rating ranges from 0 to 5.0. The majority of them is 4.5."
   ]
  },
  {
   "cell_type": "markdown",
   "metadata": {},
   "source": [
    "#### Price"
   ]
  },
  {
   "cell_type": "code",
   "execution_count": 44,
   "metadata": {},
   "outputs": [
    {
     "data": {
      "image/png": "[encoded data removed]",
      "text/plain": [
       "<Figure size 1058.4x595.44 with 1 Axes>"
      ]
     },
     "metadata": {
      "needs_background": "light"
     },
     "output_type": "display_data"
    }
   ],
   "source": [
    "# Set plot dimensions\n",
    "plt.figure(figsize=[14.70, 8.27])\n",
    "\n",
    "# Create a histogram with proper labels\n",
    "bin_edges = np.arange(0, df_clean['Price'].max()+1, 1)\n",
    "plt.hist(data=df_clean, x='Price', bins=bin_edges)\n",
    "plt.title('Distribution of Price')\n",
    "plt.xlabel('Price (USD)')\n",
    "plt.ylabel('Number of Apps');"
   ]
  },
  {
   "cell_type": "markdown",
   "metadata": {},
   "source": [
    "The price ranges from 0.00 to 179.99. 83.57% of the apps are free.\n",
    "\n",
    "To make it easier to analyze, I will divide the price range into 4 brackets:\n",
    "- Free: x = 0.00\n",
    "- Low: 0.00 < x <= 4.99\n",
    "- Medium: 4.99 < x <= 19.99\n",
    "- High: x > 19.99"
   ]
  },
  {
   "cell_type": "code",
   "execution_count": 45,
   "metadata": {
    "scrolled": true
   },
   "outputs": [
    {
     "data": {
      "text/html": [
       "<div>\n",
       "<style scoped>\n",
       "    .dataframe tbody tr th:only-of-type {\n",
       "        vertical-align: middle;\n",
       "    }\n",
       "\n",
       "    .dataframe tbody tr th {\n",
       "        vertical-align: top;\n",
       "    }\n",
       "\n",
       "    .dataframe thead th {\n",
       "        text-align: right;\n",
       "    }\n",
       "</style>\n",
       "<table border=\"1\" class=\"dataframe\">\n",
       "  <thead>\n",
       "    <tr style=\"text-align: right;\">\n",
       "      <th></th>\n",
       "      <th>Name</th>\n",
       "      <th>Subtitle</th>\n",
       "      <th>Average User Rating</th>\n",
       "      <th>User Rating Count</th>\n",
       "      <th>Price</th>\n",
       "      <th>In-app Purchases</th>\n",
       "      <th>Description</th>\n",
       "      <th>Developer</th>\n",
       "      <th>Age Rating</th>\n",
       "      <th>Languages</th>\n",
       "      <th>Size</th>\n",
       "      <th>Primary Genre</th>\n",
       "      <th>Genres</th>\n",
       "      <th>Original Release Date</th>\n",
       "      <th>Current Version Release Date</th>\n",
       "      <th>Game Genre</th>\n",
       "      <th>Price Category</th>\n",
       "    </tr>\n",
       "  </thead>\n",
       "  <tbody>\n",
       "    <tr>\n",
       "      <th>0</th>\n",
       "      <td>Sudoku</td>\n",
       "      <td>NaN</td>\n",
       "      <td>4.0</td>\n",
       "      <td>3553.0</td>\n",
       "      <td>2.99</td>\n",
       "      <td>NaN</td>\n",
       "      <td>Join over 21,000,000 of our fans and download ...</td>\n",
       "      <td>Mighty Mighty Good Games</td>\n",
       "      <td>4+</td>\n",
       "      <td>[DA, NL, EN, FI, FR, DE, IT, JA, KO, NB, PL, P...</td>\n",
       "      <td>15853568.0</td>\n",
       "      <td>Games</td>\n",
       "      <td>[Games, Strategy, Puzzle]</td>\n",
       "      <td>2008-11-07</td>\n",
       "      <td>2017-05-30</td>\n",
       "      <td>Strategy</td>\n",
       "      <td>Low</td>\n",
       "    </tr>\n",
       "    <tr>\n",
       "      <th>1</th>\n",
       "      <td>Reversi</td>\n",
       "      <td>NaN</td>\n",
       "      <td>3.5</td>\n",
       "      <td>284.0</td>\n",
       "      <td>1.99</td>\n",
       "      <td>NaN</td>\n",
       "      <td>The classic game of Reversi, also known as Oth...</td>\n",
       "      <td>Kiss The Machine</td>\n",
       "      <td>4+</td>\n",
       "      <td>[EN]</td>\n",
       "      <td>12328960.0</td>\n",
       "      <td>Games</td>\n",
       "      <td>[Games, Strategy, Board]</td>\n",
       "      <td>2008-11-07</td>\n",
       "      <td>2018-05-17</td>\n",
       "      <td>Strategy</td>\n",
       "      <td>Low</td>\n",
       "    </tr>\n",
       "    <tr>\n",
       "      <th>2</th>\n",
       "      <td>Morocco</td>\n",
       "      <td>NaN</td>\n",
       "      <td>3.0</td>\n",
       "      <td>8376.0</td>\n",
       "      <td>0.00</td>\n",
       "      <td>NaN</td>\n",
       "      <td>Play the classic strategy game Othello (also k...</td>\n",
       "      <td>Bayou Games</td>\n",
       "      <td>4+</td>\n",
       "      <td>[EN]</td>\n",
       "      <td>674816.0</td>\n",
       "      <td>Games</td>\n",
       "      <td>[Games, Board, Strategy]</td>\n",
       "      <td>2008-11-07</td>\n",
       "      <td>2017-05-09</td>\n",
       "      <td>Board</td>\n",
       "      <td>Free</td>\n",
       "    </tr>\n",
       "    <tr>\n",
       "      <th>3</th>\n",
       "      <td>Sudoku (Free)</td>\n",
       "      <td>NaN</td>\n",
       "      <td>3.5</td>\n",
       "      <td>190394.0</td>\n",
       "      <td>0.00</td>\n",
       "      <td>NaN</td>\n",
       "      <td>Top 100 free app for over a year.\\nRated \"Best...</td>\n",
       "      <td>Mighty Mighty Good Games</td>\n",
       "      <td>4+</td>\n",
       "      <td>[DA, NL, EN, FI, FR, DE, IT, JA, KO, NB, PL, P...</td>\n",
       "      <td>21552128.0</td>\n",
       "      <td>Games</td>\n",
       "      <td>[Games, Strategy, Puzzle]</td>\n",
       "      <td>2008-07-23</td>\n",
       "      <td>2017-05-30</td>\n",
       "      <td>Strategy</td>\n",
       "      <td>Free</td>\n",
       "    </tr>\n",
       "    <tr>\n",
       "      <th>4</th>\n",
       "      <td>Senet Deluxe</td>\n",
       "      <td>NaN</td>\n",
       "      <td>3.5</td>\n",
       "      <td>28.0</td>\n",
       "      <td>2.99</td>\n",
       "      <td>NaN</td>\n",
       "      <td>\"Senet Deluxe - The Ancient Game of Life and A...</td>\n",
       "      <td>RoGame Software</td>\n",
       "      <td>4+</td>\n",
       "      <td>[DA, NL, EN, FR, DE, EL, IT, JA, KO, NO, PT, R...</td>\n",
       "      <td>34689024.0</td>\n",
       "      <td>Games</td>\n",
       "      <td>[Games, Strategy, Board, Education]</td>\n",
       "      <td>2008-07-18</td>\n",
       "      <td>2018-07-22</td>\n",
       "      <td>Strategy</td>\n",
       "      <td>Low</td>\n",
       "    </tr>\n",
       "  </tbody>\n",
       "</table>\n",
       "</div>"
      ],
      "text/plain": [
       "            Name Subtitle  Average User Rating  User Rating Count  Price  \\\n",
       "0         Sudoku      NaN                  4.0             3553.0   2.99   \n",
       "1        Reversi      NaN                  3.5              284.0   1.99   \n",
       "2        Morocco      NaN                  3.0             8376.0   0.00   \n",
       "3  Sudoku (Free)      NaN                  3.5           190394.0   0.00   \n",
       "4   Senet Deluxe      NaN                  3.5               28.0   2.99   \n",
       "\n",
       "  In-app Purchases                                        Description  \\\n",
       "0              NaN  Join over 21,000,000 of our fans and download ...   \n",
       "1              NaN  The classic game of Reversi, also known as Oth...   \n",
       "2              NaN  Play the classic strategy game Othello (also k...   \n",
       "3              NaN  Top 100 free app for over a year.\\nRated \"Best...   \n",
       "4              NaN  \"Senet Deluxe - The Ancient Game of Life and A...   \n",
       "\n",
       "                  Developer Age Rating  \\\n",
       "0  Mighty Mighty Good Games         4+   \n",
       "1          Kiss The Machine         4+   \n",
       "2               Bayou Games         4+   \n",
       "3  Mighty Mighty Good Games         4+   \n",
       "4           RoGame Software         4+   \n",
       "\n",
       "                                           Languages        Size  \\\n",
       "0  [DA, NL, EN, FI, FR, DE, IT, JA, KO, NB, PL, P...  15853568.0   \n",
       "1                                               [EN]  12328960.0   \n",
       "2                                               [EN]    674816.0   \n",
       "3  [DA, NL, EN, FI, FR, DE, IT, JA, KO, NB, PL, P...  21552128.0   \n",
       "4  [DA, NL, EN, FR, DE, EL, IT, JA, KO, NO, PT, R...  34689024.0   \n",
       "\n",
       "  Primary Genre                               Genres Original Release Date  \\\n",
       "0         Games            [Games, Strategy, Puzzle]            2008-11-07   \n",
       "1         Games             [Games, Strategy, Board]            2008-11-07   \n",
       "2         Games             [Games, Board, Strategy]            2008-11-07   \n",
       "3         Games            [Games, Strategy, Puzzle]            2008-07-23   \n",
       "4         Games  [Games, Strategy, Board, Education]            2008-07-18   \n",
       "\n",
       "  Current Version Release Date Game Genre Price Category  \n",
       "0                   2017-05-30   Strategy            Low  \n",
       "1                   2018-05-17   Strategy            Low  \n",
       "2                   2017-05-09      Board           Free  \n",
       "3                   2017-05-30   Strategy           Free  \n",
       "4                   2018-07-22   Strategy            Low  "
      ]
     },
     "execution_count": 45,
     "metadata": {},
     "output_type": "execute_result"
    }
   ],
   "source": [
    "# Create a list to store the data\n",
    "price_category = []\n",
    "\n",
    "# Create the values for the price_category list using for loop\n",
    "for price in df_clean['Price']:\n",
    "    if price == 0:\n",
    "        price_category.append('Free')\n",
    "    elif price <= 4.99:\n",
    "        price_category.append('Low')\n",
    "    elif price <= 19.99:\n",
    "        price_category.append('Medium')\n",
    "    else:\n",
    "        price_category.append('High')\n",
    "\n",
    "# Create a column for the list\n",
    "df_clean['Price Category'] = price_category\n",
    "\n",
    "# View the new dataframe\n",
    "df_clean.head()"
   ]
  },
  {
   "cell_type": "code",
   "execution_count": 46,
   "metadata": {
    "scrolled": true
   },
   "outputs": [
    {
     "data": {
      "image/png": "[encoded data removed]",
      "text/plain": [
       "<Figure size 1058.4x595.44 with 1 Axes>"
      ]
     },
     "metadata": {
      "needs_background": "light"
     },
     "output_type": "display_data"
    }
   ],
   "source": [
    "# Set plot dimensions\n",
    "plt.figure(figsize=[14.70, 8.27])\n",
    "\n",
    "# Create a count plot with proper labels\n",
    "price_order = ['Free','Low','Medium','High']\n",
    "base_color = sb.color_palette()[0]\n",
    "sb.countplot(data=df_clean, x='Price Category', color=base_color, order=price_order)\n",
    "plt.ylabel('Number of Apps')\n",
    "plt.title('Distribution of Price Category');"
   ]
  },
  {
   "cell_type": "markdown",
   "metadata": {},
   "source": [
    "As the price increases, the number of apps decreases. 82.39% of the apps is free. 14.63% is low. 1.59% is medium. 0.22% is high."
   ]
  },
  {
   "cell_type": "code",
   "execution_count": 47,
   "metadata": {},
   "outputs": [
    {
     "data": {
      "text/plain": [
       "Free      14212\n",
       "Low        2488\n",
       "Medium      270\n",
       "High         37\n",
       "Name: Price Category, dtype: int64"
      ]
     },
     "execution_count": 47,
     "metadata": {},
     "output_type": "execute_result"
    }
   ],
   "source": [
    "df_clean['Price Category'].value_counts()"
   ]
  },
  {
   "cell_type": "markdown",
   "metadata": {},
   "source": [
    "#### Age Rating"
   ]
  },
  {
   "cell_type": "code",
   "execution_count": 48,
   "metadata": {
    "scrolled": true
   },
   "outputs": [
    {
     "data": {
      "text/plain": [
       "4+     11806\n",
       "9+      2481\n",
       "12+     2055\n",
       "17+      665\n",
       "Name: Age Rating, dtype: int64"
      ]
     },
     "execution_count": 48,
     "metadata": {},
     "output_type": "execute_result"
    }
   ],
   "source": [
    "# Return a series containing counts of unique values in age rating\n",
    "df_clean['Age Rating'].value_counts()"
   ]
  },
  {
   "cell_type": "code",
   "execution_count": 49,
   "metadata": {},
   "outputs": [
    {
     "data": {
      "image/png": "[encoded data removed]",
      "text/plain": [
       "<Figure size 1058.4x595.44 with 1 Axes>"
      ]
     },
     "metadata": {},
     "output_type": "display_data"
    }
   ],
   "source": [
    "# Set plot dimensions\n",
    "plt.figure(figsize=[14.70, 8.27])\n",
    "\n",
    "# Create a pie chart with proper labels\n",
    "df_clean['Age Rating'].value_counts().plot.pie(startangle=90,\n",
    "                                              autopct='%1.1f%%')\n",
    "plt.title('Distribution of Age Rating');"
   ]
  },
  {
   "cell_type": "markdown",
   "metadata": {},
   "source": [
    "There are 4 age ratings: 4+, 9+, 12+, and 17+. 69.4% is 4+. 14.6% is 9+. 12.1% is 12+. 3.9% is 17+. As the age rating increases, the number of apps decreases."
   ]
  },
  {
   "cell_type": "markdown",
   "metadata": {},
   "source": [
    "#### Game Genre"
   ]
  },
  {
   "cell_type": "code",
   "execution_count": 50,
   "metadata": {
    "scrolled": false
   },
   "outputs": [
    {
     "data": {
      "image/png": "[encoded data removed]",
      "text/plain": [
       "<Figure size 1058.4x595.44 with 1 Axes>"
      ]
     },
     "metadata": {
      "needs_background": "light"
     },
     "output_type": "display_data"
    }
   ],
   "source": [
    "# Set plot dimensions\n",
    "plt.figure(figsize=[14.70, 8.27])\n",
    "\n",
    "# Create a count plot with proper labels\n",
    "base_color = sb.color_palette()[0]\n",
    "game_genre_order = df_clean['Game Genre'].value_counts().index\n",
    "sb.countplot(data=df_clean, y='Game Genre', color=base_color, order=game_genre_order)\n",
    "plt.xlabel('Number of Apps')\n",
    "plt.title('Distribution of Game Genre');"
   ]
  },
  {
   "cell_type": "markdown",
   "metadata": {},
   "source": [
    "The most popular game genres are strategy (42.31%), entertainment (15.76%), and puzzle (9.06%)."
   ]
  },
  {
   "cell_type": "markdown",
   "metadata": {},
   "source": [
    "#### Developer"
   ]
  },
  {
   "cell_type": "code",
   "execution_count": 51,
   "metadata": {},
   "outputs": [
    {
     "data": {
      "image/png": "[encoded data removed]",
      "text/plain": [
       "<Figure size 1058.4x595.44 with 1 Axes>"
      ]
     },
     "metadata": {
      "needs_background": "light"
     },
     "output_type": "display_data"
    }
   ],
   "source": [
    "# Set plot dimensions\n",
    "plt.figure(figsize=[14.70, 8.27])\n",
    "\n",
    "# Create a bar plot with proper labels\n",
    "df_clean['Developer'].value_counts()[:10].plot(kind='bar')\n",
    "plt.xlabel('Developer')\n",
    "plt.ylabel('Number of Apps')\n",
    "plt.title('Top 10 Most Common Developers')\n",
    "plt.xticks(rotation=90)\n",
    "plt.show();"
   ]
  },
  {
   "cell_type": "markdown",
   "metadata": {},
   "source": [
    "The most common developer is Tapps Tecnologia da Informa\\xe7\\xe3o Ltda. with 123 apps."
   ]
  },
  {
   "cell_type": "markdown",
   "metadata": {},
   "source": [
    "### Bivariate Exploration"
   ]
  },
  {
   "cell_type": "markdown",
   "metadata": {},
   "source": [
    "#### Primary Genre and Average User Rating"
   ]
  },
  {
   "cell_type": "code",
   "execution_count": 52,
   "metadata": {
    "scrolled": true
   },
   "outputs": [
    {
     "data": {
      "image/png": "[encoded data removed]",
      "text/plain": [
       "<Figure size 1058.4x595.44 with 1 Axes>"
      ]
     },
     "metadata": {
      "needs_background": "light"
     },
     "output_type": "display_data"
    }
   ],
   "source": [
    "# Create a bar plot for primary genre and average user rating\n",
    "df_clean.groupby('Primary Genre')['Average User Rating'].agg('mean').sort_values(ascending=False).plot.bar(figsize=(14.70, 8.27))\n",
    "plt.title('Average User Rating by Primary Genre')\n",
    "plt.ylabel('Average User Rating')\n",
    "plt.xlabel('Primary Genre')\n",
    "plt.yticks(np.arange(0, 5.5, 0.5));"
   ]
  },
  {
   "cell_type": "markdown",
   "metadata": {},
   "source": [
    "The genres that have the highest average user ratings are Food & Drink (4.63), News (4.57), and Music (4.50)."
   ]
  },
  {
   "cell_type": "markdown",
   "metadata": {},
   "source": [
    "#### Age Rating and Average User Rating"
   ]
  },
  {
   "cell_type": "code",
   "execution_count": 53,
   "metadata": {},
   "outputs": [
    {
     "data": {
      "image/png": "[encoded data removed]",
      "text/plain": [
       "<Figure size 1058.4x595.44 with 1 Axes>"
      ]
     },
     "metadata": {
      "needs_background": "light"
     },
     "output_type": "display_data"
    }
   ],
   "source": [
    "# Create a bar plot for age rating and average user rating\n",
    "age_rating_order = ['4+', '9+', '12+', '17+']\n",
    "df_clean.groupby('Age Rating')['Average User Rating'].agg('mean').loc[age_rating_order].plot.bar(figsize=(14.70, 8.27))\n",
    "plt.title('Average User Rating by Age Rating')\n",
    "plt.xlabel('Age Rating')\n",
    "plt.ylabel('Average User Ratings')\n",
    "plt.yticks(np.arange(0, 5.5, 0.5));"
   ]
  },
  {
   "cell_type": "markdown",
   "metadata": {},
   "source": [
    "Age rating 4+ has the highest average user rating (4.33). Age rating 12+ has the lowest average user rating (4.25). All 4 age ratings have similar average user ratings, and there is not much difference among them."
   ]
  },
  {
   "cell_type": "markdown",
   "metadata": {},
   "source": [
    "#### Price and Average User Rating"
   ]
  },
  {
   "cell_type": "code",
   "execution_count": 54,
   "metadata": {},
   "outputs": [
    {
     "data": {
      "image/png": "[encoded data removed]",
      "text/plain": [
       "<Figure size 1058.4x595.44 with 1 Axes>"
      ]
     },
     "metadata": {
      "needs_background": "light"
     },
     "output_type": "display_data"
    }
   ],
   "source": [
    "# Create a bar plot for primary genre and average user rating\n",
    "price_order = ['Free', 'Low', 'Medium', 'High']\n",
    "df_clean.groupby('Price Category')['Average User Rating'].agg('mean').sort_values(ascending=False).loc[price_order].plot.bar(figsize=(14.70, 8.27))\n",
    "plt.title('Average User Rating by Price')\n",
    "plt.xlabel('Price Category')\n",
    "plt.ylabel('Average User Rating')\n",
    "plt.xticks(rotation=0)\n",
    "plt.yticks(np.arange(0, 5.5, 0.5));"
   ]
  },
  {
   "cell_type": "markdown",
   "metadata": {},
   "source": [
    "The high price category has the highest average user rating (4.31), and the low category has the lowest average user rating (4.28). The average user ratings of all price categories are quite similar, and there does not seem to be a correlation between price and average user rating."
   ]
  },
  {
   "cell_type": "markdown",
   "metadata": {},
   "source": [
    "#### Game Genre and Average User Rating"
   ]
  },
  {
   "cell_type": "code",
   "execution_count": 55,
   "metadata": {},
   "outputs": [
    {
     "data": {
      "image/png": "[encoded data removed]",
      "text/plain": [
       "<Figure size 1058.4x595.44 with 1 Axes>"
      ]
     },
     "metadata": {
      "needs_background": "light"
     },
     "output_type": "display_data"
    }
   ],
   "source": [
    "# Create a bar plot for game genre and average user rating\n",
    "df_clean.groupby('Game Genre')['Average User Rating'].agg('mean').sort_values(ascending=False).plot.bar(figsize=(14.70, 8.27))\n",
    "plt.title('Average User Rating by Game Genre')\n",
    "plt.ylabel('Average User Rating')\n",
    "plt.xlabel('Game Genre')\n",
    "plt.yticks(np.arange(0, 5.5, 0.5));"
   ]
  },
  {
   "cell_type": "markdown",
   "metadata": {},
   "source": [
    "For the apps that have primary genre as Games, Magazines & Newspapers has the highest average user rating (5.00), and Books has the lowest average user rating (4.00)."
   ]
  },
  {
   "cell_type": "markdown",
   "metadata": {},
   "source": [
    "#### Primary Genre and Age Rating"
   ]
  },
  {
   "cell_type": "code",
   "execution_count": 56,
   "metadata": {
    "scrolled": true
   },
   "outputs": [
    {
     "data": {
      "image/png": "[encoded data removed]",
      "text/plain": [
       "<Figure size 1058.4x595.44 with 1 Axes>"
      ]
     },
     "metadata": {
      "needs_background": "light"
     },
     "output_type": "display_data"
    }
   ],
   "source": [
    "# Create a crosstab table for primary genre and age rating\n",
    "genre_age = pd.crosstab(df_clean['Primary Genre'], df_clean['Age Rating'], normalize=0)\n",
    "\n",
    "# Plot a stacked bar chart for primary genre and age rating\n",
    "genre_age.plot.bar(stacked=True, figsize=[14.70, 8.27])\n",
    "plt.title('Primary Genre Repartitioned by Age Rating')\n",
    "plt.show();"
   ]
  },
  {
   "cell_type": "markdown",
   "metadata": {},
   "source": [
    "In all genres except for Book and Music, age 4+ holds the highest proportion."
   ]
  },
  {
   "cell_type": "markdown",
   "metadata": {},
   "source": [
    "#### Size and Average User Rating"
   ]
  },
  {
   "cell_type": "code",
   "execution_count": 57,
   "metadata": {
    "scrolled": true
   },
   "outputs": [
    {
     "data": {
      "image/png": "[encoded data removed]",
      "text/plain": [
       "<Figure size 1058.4x595.44 with 1 Axes>"
      ]
     },
     "metadata": {
      "needs_background": "light"
     },
     "output_type": "display_data"
    }
   ],
   "source": [
    "# Set plot dimensions\n",
    "plt.figure(figsize=[14.70, 8.27])\n",
    "\n",
    "# Create a regplot for size and average user rating\n",
    "ax = sb.regplot(x='Size', y='Average User Rating', data=df_clean)\n",
    "plt.title('Average User Rating by Size');"
   ]
  },
  {
   "cell_type": "markdown",
   "metadata": {},
   "source": [
    "There is little negative relationship between size and average user rating."
   ]
  },
  {
   "cell_type": "markdown",
   "metadata": {},
   "source": [
    "#### Size and Original Release Date"
   ]
  },
  {
   "cell_type": "code",
   "execution_count": 58,
   "metadata": {},
   "outputs": [
    {
     "data": {
      "image/png": "[encoded data removed]",
      "text/plain": [
       "<Figure size 1058.4x595.44 with 1 Axes>"
      ]
     },
     "metadata": {
      "needs_background": "light"
     },
     "output_type": "display_data"
    }
   ],
   "source": [
    "# Set plot dimensions\n",
    "plt.figure(figsize=[14.70, 8.27])\n",
    "\n",
    "# Create a lineplot for size and original release date\n",
    "sb.lineplot(data=df_clean, x='Original Release Date',\n",
    "           y='Size')\n",
    "plt.xlabel('Original Release Date')\n",
    "plt.ylabel('Size');"
   ]
  },
  {
   "cell_type": "markdown",
   "metadata": {},
   "source": [
    "The average size of apps tends to increase over time. There are a few times where there were spikes in average size. The highest one is in 2014 where the average increases to more than 3.5x(10^9) bytes."
   ]
  },
  {
   "cell_type": "markdown",
   "metadata": {},
   "source": [
    "### Multivariate Exploration"
   ]
  },
  {
   "cell_type": "markdown",
   "metadata": {},
   "source": [
    "#### Primary Genre, Age Rating, and Average User Rating"
   ]
  },
  {
   "cell_type": "code",
   "execution_count": 59,
   "metadata": {
    "scrolled": false
   },
   "outputs": [
    {
     "data": {
      "image/png": "[encoded data removed]",
      "text/plain": [
       "<Figure size 1058.4x595.44 with 1 Axes>"
      ]
     },
     "metadata": {
      "needs_background": "light"
     },
     "output_type": "display_data"
    }
   ],
   "source": [
    "plt.figure(figsize=[14.70, 8.27])\n",
    "top_genre = df_clean['Primary Genre'].value_counts().head(10).index\n",
    "df_top_genre = df_clean[df_clean['Primary Genre'].isin(top_genre)]\n",
    "sb.barplot(data=df_top_genre, x='Primary Genre', y='Average User Rating', hue='Age Rating')\n",
    "plt.xlabel('Primary Genre')\n",
    "plt.ylabel('Average User Rating')\n",
    "plt.legend(title='Age Rating')\n",
    "plt.title('The Relationship among Age Rating, Primary Genre, and Average User Rating');"
   ]
  },
  {
   "cell_type": "markdown",
   "metadata": {},
   "source": [
    "For each of the top 10 genres, there does not seem to be a correlation between age rating and average user rating."
   ]
  },
  {
   "cell_type": "markdown",
   "metadata": {},
   "source": [
    "#### Age Rating, Price Category, and Average User Rating"
   ]
  },
  {
   "cell_type": "code",
   "execution_count": 60,
   "metadata": {
    "scrolled": true
   },
   "outputs": [
    {
     "data": {
      "image/png": "[encoded data removed]",
      "text/plain": [
       "<Figure size 1058.4x595.44 with 1 Axes>"
      ]
     },
     "metadata": {
      "needs_background": "light"
     },
     "output_type": "display_data"
    }
   ],
   "source": [
    "# Create scatter plots for price category, age rating, and average user rating\n",
    "plt.figure(figsize=[14.70, 8.27])\n",
    "sb.barplot(data=df_clean, x='Age Rating', y='Average User Rating', hue='Price Category')\n",
    "plt.xlabel('Age Rating')\n",
    "plt.ylabel('Average User Rating')\n",
    "plt.legend(title='Price Category')\n",
    "plt.title('The Relationship among Age Rating, Price Category, and Average User Rating');"
   ]
  },
  {
   "cell_type": "markdown",
   "metadata": {},
   "source": [
    "For all age ratings, the average user ratings for price categories are higher than 4.0, except high price category - age rating 12+.\n",
    "\n",
    "There does not seem to be a correlation between price category and average user rating for all age ratings."
   ]
  },
  {
   "cell_type": "code",
   "execution_count": null,
   "metadata": {},
   "outputs": [],
   "source": []
  }
 ],
 "metadata": {
  "kernelspec": {
   "display_name": "Python 3",
   "language": "python",
   "name": "python3"
  },
  "language_info": {
   "codemirror_mode": {
    "name": "ipython",
    "version": 3
   },
   "file_extension": ".py",
   "mimetype": "text/x-python",
   "name": "python",
   "nbconvert_exporter": "python",
   "pygments_lexer": "ipython3",
   "version": "3.7.4"
  }
 },
 "nbformat": 4,
 "nbformat_minor": 2
}
